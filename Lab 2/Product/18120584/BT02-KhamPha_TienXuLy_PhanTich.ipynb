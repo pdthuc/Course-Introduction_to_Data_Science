{
 "cells": [
  {
   "cell_type": "markdown",
   "metadata": {},
   "source": [
    "# BT02: Khám phá dữ liệu, tiền xử lý, phân tích đơn giản\n",
    "(Cập nhật 14/11/2020)\n",
    "\n",
    "Họ tên: Phạm Đình Thục\n",
    "\n",
    "MSSV: 18120584"
   ]
  },
  {
   "cell_type": "markdown",
   "metadata": {},
   "source": [
    "---"
   ]
  },
  {
   "cell_type": "markdown",
   "metadata": {},
   "source": [
    "## Cách làm bài và nộp bài\n",
    "&#9889; Bạn lưu ý là mình sẽ dùng chương trình hỗ trợ chấm bài nên bạn cần phải tuân thủ chính xác qui định mà mình đặt ra, nếu không rõ thì hỏi, chứ không nên tự tiện làm theo ý của cá nhân.\n",
    "\n",
    "**Cách làm bài**\n",
    "\n",
    "Bạn sẽ làm trực tiếp trên file notebook này. Đầu tiên, bạn điền họ tên và MSSV vào phần đầu file ở bên trên. Trong file, bạn làm bài ở những chỗ có ghi là:\n",
    "```python\n",
    "# YOUR CODE HERE\n",
    "raise NotImplementedError()\n",
    "```\n",
    "hoặc đối với những phần code không bắt buộc thì là:\n",
    "```python\n",
    "# YOUR CODE HERE (OPTION)\n",
    "```\n",
    "hoặc đối với markdown cell thì là:\n",
    "```markdown\n",
    "YOUR ANSWER HERE\n",
    "```\n",
    "Tất nhiên, khi làm thì bạn xóa dòng `raise NotImplementedError()` đi.\n",
    "Đối những phần yêu cầu code thì thường ở ngay phía dưới sẽ có một (hoặc một số) cell chứa các bộ test để giúp bạn biết đã code đúng hay chưa; nếu chạy cell này không có lỗi gì thì có nghĩa là qua được các bộ test. Trong một số trường hợp, các bộ test có thể sẽ không đầy đủ; nghĩa là, nếu không qua được test thì là code sai, nhưng nếu qua được test thì chưa chắc đã đúng.\n",
    "\n",
    "Trong khi làm bài, bạn có thể cho in ra màn hình, tạo thêm các cell để test. Nhưng khi nộp bài thì bạn xóa các cell mà bạn tự tạo, xóa hoặc comment các câu lệnh in ra màn hình. Bạn lưu ý <font color=red>không được tự tiện xóa các cell hay sửa code của Thầy</font> (trừ những chỗ được phép sửa như đã nói ở trên).\n",
    "\n",
    "Trong khi làm bài, thường xuyên `Ctrl + S` để lưu lại bài làm của bạn, tránh mất mát thông tin.\n",
    "\n",
    "\n",
    "*Nên nhớ mục tiêu chính ở đây là <font color=green>học, học một cách chân thật</font>. Bạn có thể thảo luận ý tưởng với bạn khác, nhưng <font color=green>code và bài làm phải là của bạn, dựa trên sự hiểu thật sự của bạn</font>. <font color=red>Nếu vi phạm thì sẽ bị 0 điểm cho toàn bộ môn học.</font>*\n",
    "\n",
    "**Cách nộp bài**\n",
    "\n",
    "Khi chấm bài, đầu tiên mình sẽ chọn `Kernel` - `Restart & Run All`, để restart và chạy tất cả các cell trong notebook của bạn; do đó, trước khi nộp bài, bạn nên chạy thử `Kernel` - `Restart & Run All` để đảm bảo mọi chuyện diễn ra đúng như mong đợi.\n",
    "\n",
    "Sau đó, bạn tạo thư mục nộp bài theo cấu trúc sau:\n",
    "- Thư mục `MSSV` (vd, nếu bạn có MSSV là 1234567 thì bạn đặt tên thư mục là `1234567`)\n",
    "    - File `BT02-KhamPha_TienXuLy_PhanTich.ipynb` (không cần nộp các file khác)\n",
    "\n",
    "Cuối cùng, bạn nén thư mục `MSSV` này lại và nộp ở link trên moodle. <font color=red>Bạn lưu ý tuân thủ chính xác cấu trúc này.</font>"
   ]
  },
  {
   "cell_type": "markdown",
   "metadata": {},
   "source": [
    "---"
   ]
  },
  {
   "cell_type": "markdown",
   "metadata": {},
   "source": [
    "## Import"
   ]
  },
  {
   "cell_type": "code",
   "execution_count": 1,
   "metadata": {},
   "outputs": [],
   "source": [
    "%matplotlib inline\n",
    "import matplotlib.pyplot as plt\n",
    "import numpy as np\n",
    "import pandas as pd \n",
    "# YOUR CODE HERE (OPTION) \n",
    "# Nếu cần các thư viện khác thì bạn có thể import ở đây\n",
    "from collections import Counter\n",
    "from collections import OrderedDict\n",
    "import operator"
   ]
  },
  {
   "cell_type": "markdown",
   "metadata": {},
   "source": [
    "---"
   ]
  },
  {
   "cell_type": "markdown",
   "metadata": {},
   "source": [
    "## Thu thập dữ liệu"
   ]
  },
  {
   "cell_type": "markdown",
   "metadata": {},
   "source": [
    "Dữ liệu được sử dụng trong bài tập này là dữ liệu khảo sát các lập trình viên của trang StackOverflow. Mình download dữ liệu [ở đây](https://drive.google.com/file/d/1dfGerWeWkcyQ9GX9x20rdSGj7WtEpzBB/view) và có bỏ đi một số cột để đơn giản hóa. \n",
    "\n",
    "Theo mô tả trong file \"README_2020.txt\" của StackOverflow:\n",
    ">The enclosed data set is the full, cleaned results of the 2020 Stack Overflow Developer Survey. Free response submissions and personally identifying information have been removed from the results to protect the privacy of respondents. There are three files besides this README:\n",
    ">\n",
    ">1. survey_results_public.csv - CSV file with main survey results, one respondent per row and one column per answer\n",
    ">2. survey_results_schema.csv - CSV file with survey schema, i.e., the questions that correspond to each column name\n",
    ">3. so_survey_2020.pdf - PDF file of survey instrument\n",
    ">\n",
    ">The survey was fielded from February 5 to February 28, 2020. The median time spent on the survey for qualified responses was 16.6 minutes.\n",
    ">\n",
    ">Respondents were recruited primarily through channels owned by Stack Overflow. The top 5 sources of respondents were onsite messaging, blog posts, email lists, Meta posts, banner ads, and social media posts. Since respondents were recruited in this way, highly engaged users on Stack Overflow were more likely to notice the links for the survey and click to begin it.\n",
    "\n",
    "File \"survey_results_public-short.csv\" mà mình đính kèm là phiên bản đơn giản hóa của file \"survey_results_public.csv\" (từ 61 cột, mình bỏ xuống còn 29 cột). Đây là file dữ liệu chính mà bạn sẽ làm trong bài tập này. Ngoài ra, mình còn đính kèm 2 file phụ: (1) file \"survey_results_schema-short.csv\" là file cho biết ý nghĩa của các cột, và (2) file \"so_survey_2020.pdf\" là file khảo sát gốc của StackOverflow.\n",
    "\n",
    "Để ý: \n",
    "- Dữ liệu này không đại diện được cho cộng đồng lập trình viên trên toàn thế giới, mà chỉ giới hạn trong tập những lập trình viên thực hiện khảo sát của StackOverflow. Những câu trả lời có được thông qua tập dữ liệu này cũng sẽ bị giới hạn trong phạm vi đó.\n",
    "- Dữ liệu có đúng không? Về cơ bản là ta không biết được. Ở đây, mục đích chính là học qui trình Khoa Học Dữ Liệu và các câu lệnh của Pandas nên ta sẽ **giả định** phần lớn dữ liệu là đúng và tiếp tục làm.\n",
    "\n",
    "Cũng theo file \"README_2020.txt\", dữ liệu này được StackOverflow public với license như sau:\n",
    ">This database - The Public 2020 Stack Overflow Developer Survey Results - is made available under the Open Database License (ODbL): http://opendatacommons.org/licenses/odbl/1.0/. Any rights in individual contents of the database are licensed under the Database Contents License: http://opendatacommons.org/licenses/dbcl/1.0/\n",
    ">\n",
    ">TLDR: You are free to share, adapt, and create derivative works from The Public 2020 Stack Overflow Developer Survey Results as long as you attribute Stack Overflow, keep the database open (if you redistribute it), and continue to share-alike any adapted database under the ODbl.\n"
   ]
  },
  {
   "cell_type": "markdown",
   "metadata": {},
   "source": [
    "---"
   ]
  },
  {
   "cell_type": "markdown",
   "metadata": {},
   "source": [
    "## Khám phá dữ liệu"
   ]
  },
  {
   "cell_type": "markdown",
   "metadata": {},
   "source": [
    "### Đọc dữ liệu từ file (0.25đ)"
   ]
  },
  {
   "cell_type": "markdown",
   "metadata": {},
   "source": [
    "Đầu tiên, bạn viết code để đọc dữ liệu từ file \"survey_results_public-short.csv\" và lưu kết quả vào DataFrame `survey_df`. Ngoài ra, bạn cũng cần cho cột `Respondent` (id của người làm khảo sát) làm cột index của `survey_df`."
   ]
  },
  {
   "cell_type": "code",
   "execution_count": 2,
   "metadata": {
    "deletable": false,
    "nbgrader": {
     "cell_type": "code",
     "checksum": "0bf411943f48101b385795cb06db43f4",
     "grade": true,
     "grade_id": "cell-d46e97079096473c",
     "locked": false,
     "points": 0.25,
     "schema_version": 3,
     "solution": true,
     "task": false
    }
   },
   "outputs": [],
   "source": [
    "# YOUR CODE HERE\n",
    "survey_df = pd.read_csv('survey_results_public-short.csv', index_col = 'Respondent')"
   ]
  },
  {
   "cell_type": "code",
   "execution_count": 3,
   "metadata": {},
   "outputs": [
    {
     "data": {
      "text/html": [
       "<div>\n",
       "<style scoped>\n",
       "    .dataframe tbody tr th:only-of-type {\n",
       "        vertical-align: middle;\n",
       "    }\n",
       "\n",
       "    .dataframe tbody tr th {\n",
       "        vertical-align: top;\n",
       "    }\n",
       "\n",
       "    .dataframe thead th {\n",
       "        text-align: right;\n",
       "    }\n",
       "</style>\n",
       "<table border=\"1\" class=\"dataframe\">\n",
       "  <thead>\n",
       "    <tr style=\"text-align: right;\">\n",
       "      <th></th>\n",
       "      <th>MainBranch</th>\n",
       "      <th>Hobbyist</th>\n",
       "      <th>Age</th>\n",
       "      <th>ConvertedComp</th>\n",
       "      <th>Country</th>\n",
       "      <th>DevType</th>\n",
       "      <th>EdLevel</th>\n",
       "      <th>Employment</th>\n",
       "      <th>Ethnicity</th>\n",
       "      <th>Gender</th>\n",
       "      <th>...</th>\n",
       "      <th>NEWEdImpt</th>\n",
       "      <th>NEWLearn</th>\n",
       "      <th>NEWOvertime</th>\n",
       "      <th>NEWStuck</th>\n",
       "      <th>OpSys</th>\n",
       "      <th>PlatformDesireNextYear</th>\n",
       "      <th>PlatformWorkedWith</th>\n",
       "      <th>WorkWeekHrs</th>\n",
       "      <th>YearsCode</th>\n",
       "      <th>YearsCodePro</th>\n",
       "    </tr>\n",
       "    <tr>\n",
       "      <th>Respondent</th>\n",
       "      <th></th>\n",
       "      <th></th>\n",
       "      <th></th>\n",
       "      <th></th>\n",
       "      <th></th>\n",
       "      <th></th>\n",
       "      <th></th>\n",
       "      <th></th>\n",
       "      <th></th>\n",
       "      <th></th>\n",
       "      <th></th>\n",
       "      <th></th>\n",
       "      <th></th>\n",
       "      <th></th>\n",
       "      <th></th>\n",
       "      <th></th>\n",
       "      <th></th>\n",
       "      <th></th>\n",
       "      <th></th>\n",
       "      <th></th>\n",
       "      <th></th>\n",
       "    </tr>\n",
       "  </thead>\n",
       "  <tbody>\n",
       "    <tr>\n",
       "      <th>1</th>\n",
       "      <td>I am a developer by profession</td>\n",
       "      <td>Yes</td>\n",
       "      <td>NaN</td>\n",
       "      <td>NaN</td>\n",
       "      <td>Germany</td>\n",
       "      <td>Developer, desktop or enterprise applications;...</td>\n",
       "      <td>Master’s degree (M.A., M.S., M.Eng., MBA, etc.)</td>\n",
       "      <td>Independent contractor, freelancer, or self-em...</td>\n",
       "      <td>White or of European descent</td>\n",
       "      <td>Man</td>\n",
       "      <td>...</td>\n",
       "      <td>Fairly important</td>\n",
       "      <td>Once a year</td>\n",
       "      <td>Often: 1-2 days per week or more</td>\n",
       "      <td>Visit Stack Overflow;Go for a walk or other ph...</td>\n",
       "      <td>Windows</td>\n",
       "      <td>Android;iOS;Kubernetes;Microsoft Azure;Windows</td>\n",
       "      <td>Windows</td>\n",
       "      <td>50.0</td>\n",
       "      <td>36</td>\n",
       "      <td>27</td>\n",
       "    </tr>\n",
       "    <tr>\n",
       "      <th>2</th>\n",
       "      <td>I am a developer by profession</td>\n",
       "      <td>No</td>\n",
       "      <td>NaN</td>\n",
       "      <td>NaN</td>\n",
       "      <td>United Kingdom</td>\n",
       "      <td>Developer, full-stack;Developer, mobile</td>\n",
       "      <td>Bachelor’s degree (B.A., B.S., B.Eng., etc.)</td>\n",
       "      <td>Employed full-time</td>\n",
       "      <td>NaN</td>\n",
       "      <td>NaN</td>\n",
       "      <td>...</td>\n",
       "      <td>Fairly important</td>\n",
       "      <td>Once a year</td>\n",
       "      <td>NaN</td>\n",
       "      <td>Visit Stack Overflow;Go for a walk or other ph...</td>\n",
       "      <td>MacOS</td>\n",
       "      <td>iOS;Kubernetes;Linux;MacOS</td>\n",
       "      <td>iOS</td>\n",
       "      <td>NaN</td>\n",
       "      <td>7</td>\n",
       "      <td>4</td>\n",
       "    </tr>\n",
       "    <tr>\n",
       "      <th>3</th>\n",
       "      <td>I code primarily as a hobby</td>\n",
       "      <td>Yes</td>\n",
       "      <td>NaN</td>\n",
       "      <td>NaN</td>\n",
       "      <td>Russian Federation</td>\n",
       "      <td>NaN</td>\n",
       "      <td>NaN</td>\n",
       "      <td>NaN</td>\n",
       "      <td>NaN</td>\n",
       "      <td>NaN</td>\n",
       "      <td>...</td>\n",
       "      <td>NaN</td>\n",
       "      <td>Once a decade</td>\n",
       "      <td>NaN</td>\n",
       "      <td>NaN</td>\n",
       "      <td>Linux-based</td>\n",
       "      <td>NaN</td>\n",
       "      <td>NaN</td>\n",
       "      <td>NaN</td>\n",
       "      <td>4</td>\n",
       "      <td>NaN</td>\n",
       "    </tr>\n",
       "    <tr>\n",
       "      <th>4</th>\n",
       "      <td>I am a developer by profession</td>\n",
       "      <td>Yes</td>\n",
       "      <td>25.0</td>\n",
       "      <td>NaN</td>\n",
       "      <td>Albania</td>\n",
       "      <td>NaN</td>\n",
       "      <td>Master’s degree (M.A., M.S., M.Eng., MBA, etc.)</td>\n",
       "      <td>NaN</td>\n",
       "      <td>White or of European descent</td>\n",
       "      <td>Man</td>\n",
       "      <td>...</td>\n",
       "      <td>Not at all important/not necessary</td>\n",
       "      <td>Once a year</td>\n",
       "      <td>Occasionally: 1-2 days per quarter but less th...</td>\n",
       "      <td>NaN</td>\n",
       "      <td>Linux-based</td>\n",
       "      <td>NaN</td>\n",
       "      <td>NaN</td>\n",
       "      <td>40.0</td>\n",
       "      <td>7</td>\n",
       "      <td>4</td>\n",
       "    </tr>\n",
       "    <tr>\n",
       "      <th>5</th>\n",
       "      <td>I used to be a developer by profession, but no...</td>\n",
       "      <td>Yes</td>\n",
       "      <td>31.0</td>\n",
       "      <td>NaN</td>\n",
       "      <td>United States</td>\n",
       "      <td>NaN</td>\n",
       "      <td>Bachelor’s degree (B.A., B.S., B.Eng., etc.)</td>\n",
       "      <td>Employed full-time</td>\n",
       "      <td>White or of European descent</td>\n",
       "      <td>Man</td>\n",
       "      <td>...</td>\n",
       "      <td>Very important</td>\n",
       "      <td>Once a year</td>\n",
       "      <td>NaN</td>\n",
       "      <td>Call a coworker or friend;Visit Stack Overflow...</td>\n",
       "      <td>Windows</td>\n",
       "      <td>Docker;Google Cloud Platform;Heroku;Linux;Windows</td>\n",
       "      <td>AWS;Docker;Linux;MacOS;Windows</td>\n",
       "      <td>NaN</td>\n",
       "      <td>15</td>\n",
       "      <td>8</td>\n",
       "    </tr>\n",
       "  </tbody>\n",
       "</table>\n",
       "<p>5 rows × 28 columns</p>\n",
       "</div>"
      ],
      "text/plain": [
       "                                                   MainBranch Hobbyist   Age  \\\n",
       "Respondent                                                                     \n",
       "1                              I am a developer by profession      Yes   NaN   \n",
       "2                              I am a developer by profession       No   NaN   \n",
       "3                                 I code primarily as a hobby      Yes   NaN   \n",
       "4                              I am a developer by profession      Yes  25.0   \n",
       "5           I used to be a developer by profession, but no...      Yes  31.0   \n",
       "\n",
       "            ConvertedComp             Country  \\\n",
       "Respondent                                      \n",
       "1                     NaN             Germany   \n",
       "2                     NaN      United Kingdom   \n",
       "3                     NaN  Russian Federation   \n",
       "4                     NaN             Albania   \n",
       "5                     NaN       United States   \n",
       "\n",
       "                                                      DevType  \\\n",
       "Respondent                                                      \n",
       "1           Developer, desktop or enterprise applications;...   \n",
       "2                     Developer, full-stack;Developer, mobile   \n",
       "3                                                         NaN   \n",
       "4                                                         NaN   \n",
       "5                                                         NaN   \n",
       "\n",
       "                                                    EdLevel  \\\n",
       "Respondent                                                    \n",
       "1           Master’s degree (M.A., M.S., M.Eng., MBA, etc.)   \n",
       "2              Bachelor’s degree (B.A., B.S., B.Eng., etc.)   \n",
       "3                                                       NaN   \n",
       "4           Master’s degree (M.A., M.S., M.Eng., MBA, etc.)   \n",
       "5              Bachelor’s degree (B.A., B.S., B.Eng., etc.)   \n",
       "\n",
       "                                                   Employment  \\\n",
       "Respondent                                                      \n",
       "1           Independent contractor, freelancer, or self-em...   \n",
       "2                                          Employed full-time   \n",
       "3                                                         NaN   \n",
       "4                                                         NaN   \n",
       "5                                          Employed full-time   \n",
       "\n",
       "                               Ethnicity Gender  ...  \\\n",
       "Respondent                                       ...   \n",
       "1           White or of European descent    Man  ...   \n",
       "2                                    NaN    NaN  ...   \n",
       "3                                    NaN    NaN  ...   \n",
       "4           White or of European descent    Man  ...   \n",
       "5           White or of European descent    Man  ...   \n",
       "\n",
       "                                     NEWEdImpt       NEWLearn  \\\n",
       "Respondent                                                      \n",
       "1                             Fairly important    Once a year   \n",
       "2                             Fairly important    Once a year   \n",
       "3                                          NaN  Once a decade   \n",
       "4           Not at all important/not necessary    Once a year   \n",
       "5                               Very important    Once a year   \n",
       "\n",
       "                                                  NEWOvertime  \\\n",
       "Respondent                                                      \n",
       "1                            Often: 1-2 days per week or more   \n",
       "2                                                         NaN   \n",
       "3                                                         NaN   \n",
       "4           Occasionally: 1-2 days per quarter but less th...   \n",
       "5                                                         NaN   \n",
       "\n",
       "                                                     NEWStuck        OpSys  \\\n",
       "Respondent                                                                   \n",
       "1           Visit Stack Overflow;Go for a walk or other ph...      Windows   \n",
       "2           Visit Stack Overflow;Go for a walk or other ph...        MacOS   \n",
       "3                                                         NaN  Linux-based   \n",
       "4                                                         NaN  Linux-based   \n",
       "5           Call a coworker or friend;Visit Stack Overflow...      Windows   \n",
       "\n",
       "                                       PlatformDesireNextYear  \\\n",
       "Respondent                                                      \n",
       "1              Android;iOS;Kubernetes;Microsoft Azure;Windows   \n",
       "2                                  iOS;Kubernetes;Linux;MacOS   \n",
       "3                                                         NaN   \n",
       "4                                                         NaN   \n",
       "5           Docker;Google Cloud Platform;Heroku;Linux;Windows   \n",
       "\n",
       "                        PlatformWorkedWith WorkWeekHrs YearsCode YearsCodePro  \n",
       "Respondent                                                                     \n",
       "1                                  Windows        50.0        36           27  \n",
       "2                                      iOS         NaN         7            4  \n",
       "3                                      NaN         NaN         4          NaN  \n",
       "4                                      NaN        40.0         7            4  \n",
       "5           AWS;Docker;Linux;MacOS;Windows         NaN        15            8  \n",
       "\n",
       "[5 rows x 28 columns]"
      ]
     },
     "execution_count": 3,
     "metadata": {},
     "output_type": "execute_result"
    }
   ],
   "source": [
    "# TEST\n",
    "survey_df.head()"
   ]
  },
  {
   "cell_type": "markdown",
   "metadata": {},
   "source": [
    "### Dữ liệu có bao nhiêu dòng và bao nhiêu cột? (0.25đ)"
   ]
  },
  {
   "cell_type": "markdown",
   "metadata": {},
   "source": [
    "Kế đến, bạn tính số dòng và số cột của DataFrame `survey_df` và lưu vào biến `shape` (tuple). "
   ]
  },
  {
   "cell_type": "code",
   "execution_count": 4,
   "metadata": {
    "deletable": false,
    "nbgrader": {
     "cell_type": "code",
     "checksum": "607dbbe4997f90db7ca9d3e0c596d38a",
     "grade": false,
     "grade_id": "cell-8338f3610f6c5002",
     "locked": false,
     "schema_version": 3,
     "solution": true,
     "task": false
    }
   },
   "outputs": [],
   "source": [
    "# YOUR CODE HERE\n",
    "shape = survey_df.shape"
   ]
  },
  {
   "cell_type": "code",
   "execution_count": 5,
   "metadata": {
    "deletable": false,
    "editable": false,
    "nbgrader": {
     "cell_type": "code",
     "checksum": "daae8c5f103d5fdb8156d1659d7231f5",
     "grade": true,
     "grade_id": "cell-00f00d1bba235517",
     "locked": true,
     "points": 0.25,
     "schema_version": 3,
     "solution": false,
     "task": false
    }
   },
   "outputs": [],
   "source": [
    "# TEST\n",
    "assert shape == (64461, 28)"
   ]
  },
  {
   "cell_type": "markdown",
   "metadata": {},
   "source": [
    "### Mỗi dòng có ý nghĩa gì? Có vấn đề các dòng có ý nghĩa khác nhau không?"
   ]
  },
  {
   "cell_type": "markdown",
   "metadata": {},
   "source": [
    "Theo file \"README_2020.txt\" cũng như theo quan sát sơ bộ về dữ liệu, mỗi dòng trong DataFrame `survey_df` cho biết kết quả làm khảo sát của một người. Có vẻ không có vấn đề các dòng có ý nghĩa khác nhau (lúc sau, nếu phát hiện ra vấn đề thì ta sẽ quay lại đây). "
   ]
  },
  {
   "cell_type": "markdown",
   "metadata": {},
   "source": [
    "### Dữ liệu có các dòng bị lặp không? (0.25đ)"
   ]
  },
  {
   "cell_type": "markdown",
   "metadata": {},
   "source": [
    "Kế đến, bạn tính số dòng có index (id của người làm khảo sát) bị lặp và lưu vào biến `num_duplicated_rows`. Trong nhóm các dòng có index giống nhau thì dòng đầu tiên không tính là bị lặp."
   ]
  },
  {
   "cell_type": "code",
   "execution_count": 6,
   "metadata": {
    "deletable": false,
    "nbgrader": {
     "cell_type": "code",
     "checksum": "8562ed8052a1cfb4a1c033be002aa083",
     "grade": false,
     "grade_id": "cell-aadbfe12be205faa",
     "locked": false,
     "schema_version": 3,
     "solution": true,
     "task": false
    }
   },
   "outputs": [],
   "source": [
    "# YOUR CODE HERE        \n",
    "    # Đếm số lần xuất hiện của từng giá trị trong index\n",
    "result = survey_df.index.map(survey_df.index.value_counts())\n",
    "    \n",
    "    # Đếm số lần lặp của các giá trị trong index\n",
    "num_duplicated_rows = shape[0] - result.value_counts()[1] #  Số dòng bị lặp = Tổng số dòng - Số dòng chỉ xuất hiện 1 lần "
   ]
  },
  {
   "cell_type": "code",
   "execution_count": 7,
   "metadata": {
    "deletable": false,
    "editable": false,
    "nbgrader": {
     "cell_type": "code",
     "checksum": "9cf4a1f5b657704c7ff30130242e1646",
     "grade": true,
     "grade_id": "cell-7c456d5495d4904d",
     "locked": true,
     "points": 0.25,
     "schema_version": 3,
     "solution": false,
     "task": false
    }
   },
   "outputs": [],
   "source": [
    "# TEST\n",
    "assert num_duplicated_rows == 0"
   ]
  },
  {
   "cell_type": "markdown",
   "metadata": {},
   "source": [
    "### Mỗi cột có ý nghĩa gì? (0.25đ)"
   ]
  },
  {
   "cell_type": "markdown",
   "metadata": {},
   "source": [
    "Để xem ý nghĩa của mỗi cột thì:\n",
    "- Trước tiên, bạn cần đọc file \"survey_results_schema-short.csv\" vào DataFrame `col_meaning_df`; bạn cũng cần cho cột \"Column\" làm cột index. \n",
    "- Sau đó, bạn chỉ cần hiển thị DataFrame `col_meaning_df` ra để xem (vụ này khó nên ở dưới mình đã làm cho bạn ở cell có dòng \"# TEST\" 😉). Tuy nhiên, bạn sẽ thấy ở cột \"QuestionText\": các chuỗi mô tả bị cắt do quá dài. Do đó, trước khi hiển thị DataFrame `col_meaning_df`, bạn cũng cần chỉnh sao đó để các chuỗi mô tả không bị cắt (vụ này bạn tự search Google, gợi ý: bạn sẽ dùng đến câu lệnh `pd.set_option`).   "
   ]
  },
  {
   "cell_type": "code",
   "execution_count": 8,
   "metadata": {
    "deletable": false,
    "nbgrader": {
     "cell_type": "code",
     "checksum": "bc5afa2bdb3831c9bfdc88a3d0aeff5b",
     "grade": true,
     "grade_id": "cell-5efb0517df207535",
     "locked": false,
     "points": 0.25,
     "schema_version": 3,
     "solution": true,
     "task": false
    }
   },
   "outputs": [],
   "source": [
    "# YOUR CODE HERE\n",
    "pd.set_option(\"display.max_colwidth\", 0) # set độ dài của cột là max\n",
    "col_meaning_df = pd.read_csv('survey_results_schema-short.csv', index_col = 'Column')"
   ]
  },
  {
   "cell_type": "code",
   "execution_count": 9,
   "metadata": {},
   "outputs": [
    {
     "data": {
      "text/html": [
       "<div>\n",
       "<style scoped>\n",
       "    .dataframe tbody tr th:only-of-type {\n",
       "        vertical-align: middle;\n",
       "    }\n",
       "\n",
       "    .dataframe tbody tr th {\n",
       "        vertical-align: top;\n",
       "    }\n",
       "\n",
       "    .dataframe thead th {\n",
       "        text-align: right;\n",
       "    }\n",
       "</style>\n",
       "<table border=\"1\" class=\"dataframe\">\n",
       "  <thead>\n",
       "    <tr style=\"text-align: right;\">\n",
       "      <th></th>\n",
       "      <th>QuestionText</th>\n",
       "    </tr>\n",
       "    <tr>\n",
       "      <th>Column</th>\n",
       "      <th></th>\n",
       "    </tr>\n",
       "  </thead>\n",
       "  <tbody>\n",
       "    <tr>\n",
       "      <th>Respondent</th>\n",
       "      <td>Randomized respondent ID number (not in order of survey response time)</td>\n",
       "    </tr>\n",
       "    <tr>\n",
       "      <th>MainBranch</th>\n",
       "      <td>Which of the following options best describes you today? Here, by \"developer\" we mean \"someone who writes code.\"</td>\n",
       "    </tr>\n",
       "    <tr>\n",
       "      <th>Hobbyist</th>\n",
       "      <td>Do you code as a hobby?</td>\n",
       "    </tr>\n",
       "    <tr>\n",
       "      <th>Age</th>\n",
       "      <td>What is your age (in years)? If you prefer not to answer, you may leave this question blank.</td>\n",
       "    </tr>\n",
       "    <tr>\n",
       "      <th>ConvertedComp</th>\n",
       "      <td>Salary converted to annual USD salaries using the exchange rate on 2020-02-19, assuming 12 working months and 50 working weeks.</td>\n",
       "    </tr>\n",
       "    <tr>\n",
       "      <th>Country</th>\n",
       "      <td>Where do you live?</td>\n",
       "    </tr>\n",
       "    <tr>\n",
       "      <th>DevType</th>\n",
       "      <td>Which of the following describe you? Please select all that apply.</td>\n",
       "    </tr>\n",
       "    <tr>\n",
       "      <th>EdLevel</th>\n",
       "      <td>Which of the following best describes the highest level of formal education that you’ve completed?</td>\n",
       "    </tr>\n",
       "    <tr>\n",
       "      <th>Employment</th>\n",
       "      <td>Which of the following best describes your current employment status?</td>\n",
       "    </tr>\n",
       "    <tr>\n",
       "      <th>Ethnicity</th>\n",
       "      <td>Which of the following describe you, if any? Please check all that apply. If you prefer not to answer, you may leave this question blank.</td>\n",
       "    </tr>\n",
       "    <tr>\n",
       "      <th>Gender</th>\n",
       "      <td>Which of the following describe you, if any? Please check all that apply. If you prefer not to answer, you may leave this question blank.</td>\n",
       "    </tr>\n",
       "    <tr>\n",
       "      <th>JobFactors</th>\n",
       "      <td>Imagine that you are deciding between two job offers with the same compensation, benefits, and location. Of the following factors, which 3 are MOST important to you?</td>\n",
       "    </tr>\n",
       "    <tr>\n",
       "      <th>JobSat</th>\n",
       "      <td>How satisfied are you with your current job? (If you work multiple jobs, answer for the one you spend the most hours on.)</td>\n",
       "    </tr>\n",
       "    <tr>\n",
       "      <th>LanguageDesireNextYear</th>\n",
       "      <td>Which programming, scripting, and markup languages have you done extensive development work in over the past year, and which do you want to work in over the next year? (If you both worked with the language and want to continue to do so, please check both boxes in that row.)</td>\n",
       "    </tr>\n",
       "    <tr>\n",
       "      <th>LanguageWorkedWith</th>\n",
       "      <td>Which programming, scripting, and markup languages have you done extensive development work in over the past year, and which do you want to work in over the next year? (If you both worked with the language and want to continue to do so, please check both boxes in that row.)</td>\n",
       "    </tr>\n",
       "    <tr>\n",
       "      <th>MiscTechDesireNextYear</th>\n",
       "      <td>Which other frameworks, libraries, and tools have you done extensive development work in over the past year, and which do you want to work in over the next year? (If you both worked with the framework and want to continue to do so, please check both boxes in that row.)</td>\n",
       "    </tr>\n",
       "    <tr>\n",
       "      <th>MiscTechWorkedWith</th>\n",
       "      <td>Which other frameworks, libraries, and tools have you done extensive development work in over the past year, and which do you want to work in over the next year? (If you both worked with the framework and want to continue to do so, please check both boxes in that row.)</td>\n",
       "    </tr>\n",
       "    <tr>\n",
       "      <th>NEWCollabToolsDesireNextYear</th>\n",
       "      <td>Which collaboration tools have you done extensive development work in over the past year, and which do you want to work in over the next year? (If you worked with the tool and want to continue to do so, please check both boxes in that row.)</td>\n",
       "    </tr>\n",
       "    <tr>\n",
       "      <th>NEWCollabToolsWorkedWith</th>\n",
       "      <td>Which collaboration tools have you done extensive development work in over the past year, and which do you want to work in over the next year? (If you worked with the tool and want to continue to do so, please check both boxes in that row.)</td>\n",
       "    </tr>\n",
       "    <tr>\n",
       "      <th>NEWEdImpt</th>\n",
       "      <td>How important is a formal education, such as a university degree in computer science, to your career?</td>\n",
       "    </tr>\n",
       "    <tr>\n",
       "      <th>NEWLearn</th>\n",
       "      <td>How frequently do you learn a new language or framework?</td>\n",
       "    </tr>\n",
       "    <tr>\n",
       "      <th>NEWOvertime</th>\n",
       "      <td>How often do you work overtime or beyond the formal time expectation of your job?</td>\n",
       "    </tr>\n",
       "    <tr>\n",
       "      <th>NEWStuck</th>\n",
       "      <td>What do you do when you get stuck on a problem? Select all that apply.</td>\n",
       "    </tr>\n",
       "    <tr>\n",
       "      <th>OpSys</th>\n",
       "      <td>What is the primary operating system in which you work?</td>\n",
       "    </tr>\n",
       "    <tr>\n",
       "      <th>PlatformDesireNextYear</th>\n",
       "      <td>Which platforms have you done extensive development work in over the past year, and which do you want to work in over the next year? (If you both worked with the platform and want to continue to do so, please check both boxes in that row.)</td>\n",
       "    </tr>\n",
       "    <tr>\n",
       "      <th>PlatformWorkedWith</th>\n",
       "      <td>Which platforms have you done extensive development work in over the past year, and which do you want to work in over the next year? (If you both worked with the platform and want to continue to do so, please check both boxes in that row.)</td>\n",
       "    </tr>\n",
       "    <tr>\n",
       "      <th>WorkWeekHrs</th>\n",
       "      <td>On average, how many hours per week do you work? Please enter a whole number in the box.</td>\n",
       "    </tr>\n",
       "    <tr>\n",
       "      <th>YearsCode</th>\n",
       "      <td>Including any education, how many years have you been coding in total?</td>\n",
       "    </tr>\n",
       "    <tr>\n",
       "      <th>YearsCodePro</th>\n",
       "      <td>NOT including education, how many years have you coded professionally (as a part of your work)?</td>\n",
       "    </tr>\n",
       "  </tbody>\n",
       "</table>\n",
       "</div>"
      ],
      "text/plain": [
       "                                                                                                                                                                                                                                                                                                    QuestionText\n",
       "Column                                                                                                                                                                                                                                                                                                          \n",
       "Respondent                    Randomized respondent ID number (not in order of survey response time)                                                                                                                                                                                                            \n",
       "MainBranch                    Which of the following options best describes you today? Here, by \"developer\" we mean \"someone who writes code.\"                                                                                                                                                                  \n",
       "Hobbyist                      Do you code as a hobby?                                                                                                                                                                                                                                                           \n",
       "Age                           What is your age (in years)? If you prefer not to answer, you may leave this question blank.                                                                                                                                                                                      \n",
       "ConvertedComp                 Salary converted to annual USD salaries using the exchange rate on 2020-02-19, assuming 12 working months and 50 working weeks.                                                                                                                                                   \n",
       "Country                       Where do you live?                                                                                                                                                                                                                                                                \n",
       "DevType                       Which of the following describe you? Please select all that apply.                                                                                                                                                                                                                \n",
       "EdLevel                       Which of the following best describes the highest level of formal education that you’ve completed?                                                                                                                                                                                \n",
       "Employment                    Which of the following best describes your current employment status?                                                                                                                                                                                                             \n",
       "Ethnicity                     Which of the following describe you, if any? Please check all that apply. If you prefer not to answer, you may leave this question blank.                                                                                                                                         \n",
       "Gender                        Which of the following describe you, if any? Please check all that apply. If you prefer not to answer, you may leave this question blank.                                                                                                                                         \n",
       "JobFactors                    Imagine that you are deciding between two job offers with the same compensation, benefits, and location. Of the following factors, which 3 are MOST important to you?                                                                                                             \n",
       "JobSat                        How satisfied are you with your current job? (If you work multiple jobs, answer for the one you spend the most hours on.)                                                                                                                                                         \n",
       "LanguageDesireNextYear        Which programming, scripting, and markup languages have you done extensive development work in over the past year, and which do you want to work in over the next year? (If you both worked with the language and want to continue to do so, please check both boxes in that row.)\n",
       "LanguageWorkedWith            Which programming, scripting, and markup languages have you done extensive development work in over the past year, and which do you want to work in over the next year? (If you both worked with the language and want to continue to do so, please check both boxes in that row.)\n",
       "MiscTechDesireNextYear        Which other frameworks, libraries, and tools have you done extensive development work in over the past year, and which do you want to work in over the next year? (If you both worked with the framework and want to continue to do so, please check both boxes in that row.)     \n",
       "MiscTechWorkedWith            Which other frameworks, libraries, and tools have you done extensive development work in over the past year, and which do you want to work in over the next year? (If you both worked with the framework and want to continue to do so, please check both boxes in that row.)     \n",
       "NEWCollabToolsDesireNextYear  Which collaboration tools have you done extensive development work in over the past year, and which do you want to work in over the next year? (If you worked with the tool and want to continue to do so, please check both boxes in that row.)                                  \n",
       "NEWCollabToolsWorkedWith      Which collaboration tools have you done extensive development work in over the past year, and which do you want to work in over the next year? (If you worked with the tool and want to continue to do so, please check both boxes in that row.)                                  \n",
       "NEWEdImpt                     How important is a formal education, such as a university degree in computer science, to your career?                                                                                                                                                                             \n",
       "NEWLearn                      How frequently do you learn a new language or framework?                                                                                                                                                                                                                          \n",
       "NEWOvertime                   How often do you work overtime or beyond the formal time expectation of your job?                                                                                                                                                                                                 \n",
       "NEWStuck                      What do you do when you get stuck on a problem? Select all that apply.                                                                                                                                                                                                            \n",
       "OpSys                         What is the primary operating system in which you work?                                                                                                                                                                                                                           \n",
       "PlatformDesireNextYear        Which platforms have you done extensive development work in over the past year, and which do you want to work in over the next year? (If you both worked with the platform and want to continue to do so, please check both boxes in that row.)                                   \n",
       "PlatformWorkedWith            Which platforms have you done extensive development work in over the past year, and which do you want to work in over the next year? (If you both worked with the platform and want to continue to do so, please check both boxes in that row.)                                   \n",
       "WorkWeekHrs                   On average, how many hours per week do you work? Please enter a whole number in the box.                                                                                                                                                                                          \n",
       "YearsCode                     Including any education, how many years have you been coding in total?                                                                                                                                                                                                            \n",
       "YearsCodePro                  NOT including education, how many years have you coded professionally (as a part of your work)?                                                                                                                                                                                   "
      ]
     },
     "execution_count": 9,
     "metadata": {},
     "output_type": "execute_result"
    }
   ],
   "source": [
    "# TEST\n",
    "col_meaning_df"
   ]
  },
  {
   "cell_type": "markdown",
   "metadata": {},
   "source": [
    "Trước khi đi tiếp, bạn nên đọc kết quả hiển thị ở trên và đảm bảo là bạn đã hiểu ý nghĩa của các cột. Để hiểu ý nghĩa của cột, có thể bạn sẽ cần xem thêm các giá trị của cột bên DataFrame `survey_df`. "
   ]
  },
  {
   "cell_type": "markdown",
   "metadata": {},
   "source": [
    "### Mỗi cột hiện đang có kiểu dữ liệu gì? Có cột nào có kiểu dữ liệu chưa phù hợp để có thể xử lý tiếp không? (0.25đ)"
   ]
  },
  {
   "cell_type": "markdown",
   "metadata": {},
   "source": [
    "Kế đến, bạn tính kiểu dữ liệu (dtype) của mỗi cột trong DataFrame `survey_df` và lưu kết quả vào Series `dtypes` (Series này có index là tên cột). "
   ]
  },
  {
   "cell_type": "code",
   "execution_count": 10,
   "metadata": {
    "deletable": false,
    "nbgrader": {
     "cell_type": "code",
     "checksum": "2ecb5b8df41e1b29c852e2e5dd13b893",
     "grade": false,
     "grade_id": "cell-206c19691b1a6c05",
     "locked": false,
     "schema_version": 3,
     "solution": true,
     "task": false
    }
   },
   "outputs": [
    {
     "data": {
      "text/plain": [
       "MainBranch                      object \n",
       "Hobbyist                        object \n",
       "Age                             float64\n",
       "ConvertedComp                   float64\n",
       "Country                         object \n",
       "DevType                         object \n",
       "EdLevel                         object \n",
       "Employment                      object \n",
       "Ethnicity                       object \n",
       "Gender                          object \n",
       "JobFactors                      object \n",
       "JobSat                          object \n",
       "LanguageDesireNextYear          object \n",
       "LanguageWorkedWith              object \n",
       "MiscTechDesireNextYear          object \n",
       "MiscTechWorkedWith              object \n",
       "NEWCollabToolsDesireNextYear    object \n",
       "NEWCollabToolsWorkedWith        object \n",
       "NEWEdImpt                       object \n",
       "NEWLearn                        object \n",
       "NEWOvertime                     object \n",
       "NEWStuck                        object \n",
       "OpSys                           object \n",
       "PlatformDesireNextYear          object \n",
       "PlatformWorkedWith              object \n",
       "WorkWeekHrs                     float64\n",
       "YearsCode                       object \n",
       "YearsCodePro                    object \n",
       "dtype: object"
      ]
     },
     "execution_count": 10,
     "metadata": {},
     "output_type": "execute_result"
    }
   ],
   "source": [
    "# YOUR CODE HERE\n",
    "dtypes = pd.Series(survey_df.dtypes)\n",
    "dtypes"
   ]
  },
  {
   "cell_type": "code",
   "execution_count": 11,
   "metadata": {
    "deletable": false,
    "editable": false,
    "nbgrader": {
     "cell_type": "code",
     "checksum": "ac6951bf9ae5d429dd8c2fbeb9d17832",
     "grade": true,
     "grade_id": "cell-3ebcf8f07733605b",
     "locked": true,
     "points": 0.25,
     "schema_version": 3,
     "solution": false,
     "task": false
    }
   },
   "outputs": [],
   "source": [
    "# TEST\n",
    "float_cols = set(dtypes[(dtypes==np.float32) | (dtypes==np.float64)].index)\n",
    "assert float_cols == {'Age', 'ConvertedComp', 'WorkWeekHrs'}\n",
    "object_cols = set(dtypes[dtypes == object].index)\n",
    "assert len(object_cols) == 25"
   ]
  },
  {
   "cell_type": "markdown",
   "metadata": {},
   "source": [
    "Như bạn có thể thấy, cột \"YearsCode\" và \"YearsCodePro\" nên có kiểu dữ liệu số, nhưng hiện giờ đang có kiểu dữ liệu object. Ta hãy thử xem thêm về các giá trị 2 cột này. "
   ]
  },
  {
   "cell_type": "code",
   "execution_count": 12,
   "metadata": {},
   "outputs": [
    {
     "data": {
      "text/plain": [
       "array(['36', '7', '4', '15', '6', '17', '8', '10', '35', '5', '37', '19',\n",
       "       '9', '22', '30', '23', '20', '2', 'Less than 1 year', '3', '13',\n",
       "       '25', '16', '43', '11', '38', '33', nan, '24', '21', '12', '40',\n",
       "       '27', '50', '46', '14', '18', '28', '32', '44', '26', '42', '31',\n",
       "       '34', '29', '1', '39', '41', '45', 'More than 50 years', '47',\n",
       "       '49', '48'], dtype=object)"
      ]
     },
     "execution_count": 12,
     "metadata": {},
     "output_type": "execute_result"
    }
   ],
   "source": [
    "survey_df['YearsCode'].unique()"
   ]
  },
  {
   "cell_type": "code",
   "execution_count": 13,
   "metadata": {},
   "outputs": [
    {
     "data": {
      "text/plain": [
       "array(['27', '4', nan, '8', '13', '2', '7', '20', '1', '23', '3', '12',\n",
       "       '17', '18', '10', '14', '29', '6', '28', '9', '15', '11', '16',\n",
       "       '25', 'Less than 1 year', '5', '21', '19', '35', '24', '32', '22',\n",
       "       '30', '38', '26', '40', '33', '31', 'More than 50 years', '34',\n",
       "       '36', '39', '37', '41', '45', '47', '42', '46', '50', '43', '44',\n",
       "       '48', '49'], dtype=object)"
      ]
     },
     "execution_count": 13,
     "metadata": {},
     "output_type": "execute_result"
    }
   ],
   "source": [
    "survey_df['YearsCodePro'].unique()"
   ]
  },
  {
   "cell_type": "markdown",
   "metadata": {},
   "source": [
    "Ta nên đưa 2 cột này về dạng số để có thể tiếp tục khám phá (tính min, median, max, ...)."
   ]
  },
  {
   "cell_type": "markdown",
   "metadata": {},
   "source": [
    "---"
   ]
  },
  {
   "cell_type": "markdown",
   "metadata": {},
   "source": [
    "## Tiền xử lý (0.5đ)"
   ]
  },
  {
   "cell_type": "markdown",
   "metadata": {},
   "source": [
    "Bạn sẽ thực hiện tiền xử lý để chuyển 2 cột \"YearsCode\" và \"YearsCodePro\" về dạng số (float). Trong đó: \"Less than 1 year\" $\\to$ 0, \"More than 50 years\" $\\to$ 51. Sau khi chuyển thì `survey_df.dtypes` sẽ thay đổi."
   ]
  },
  {
   "cell_type": "code",
   "execution_count": 14,
   "metadata": {
    "deletable": false,
    "nbgrader": {
     "cell_type": "code",
     "checksum": "b12c49ae100fb58e51939537b8f7af48",
     "grade": false,
     "grade_id": "cell-cfc7d3af0fb5edec",
     "locked": false,
     "schema_version": 3,
     "solution": true,
     "task": false
    }
   },
   "outputs": [
    {
     "data": {
      "text/plain": [
       "MainBranch                      object \n",
       "Hobbyist                        object \n",
       "Age                             float64\n",
       "ConvertedComp                   float64\n",
       "Country                         object \n",
       "DevType                         object \n",
       "EdLevel                         object \n",
       "Employment                      object \n",
       "Ethnicity                       object \n",
       "Gender                          object \n",
       "JobFactors                      object \n",
       "JobSat                          object \n",
       "LanguageDesireNextYear          object \n",
       "LanguageWorkedWith              object \n",
       "MiscTechDesireNextYear          object \n",
       "MiscTechWorkedWith              object \n",
       "NEWCollabToolsDesireNextYear    object \n",
       "NEWCollabToolsWorkedWith        object \n",
       "NEWEdImpt                       object \n",
       "NEWLearn                        object \n",
       "NEWOvertime                     object \n",
       "NEWStuck                        object \n",
       "OpSys                           object \n",
       "PlatformDesireNextYear          object \n",
       "PlatformWorkedWith              object \n",
       "WorkWeekHrs                     float64\n",
       "YearsCode                       float64\n",
       "YearsCodePro                    float64\n",
       "dtype: object"
      ]
     },
     "execution_count": 14,
     "metadata": {},
     "output_type": "execute_result"
    }
   ],
   "source": [
    "# YOUR CODE HERE\n",
    "\n",
    "# Tiền xử lý ở cột YearsCode\n",
    "survey_df['YearsCode'] = survey_df['YearsCode'].replace('Less than 1 year', 0)\n",
    "survey_df['YearsCode'] = survey_df['YearsCode'].replace('More than 50 years', 51)\n",
    "\n",
    "# Tiền xử lý ở cột YearsCodePro\n",
    "survey_df['YearsCodePro'] = survey_df['YearsCodePro'].replace('Less than 1 year', 0)\n",
    "survey_df['YearsCodePro'] = survey_df['YearsCodePro'].replace('More than 50 years', 51)\n",
    "\n",
    "# Chuyển về dạng float\n",
    "survey_df['YearsCode'] = survey_df['YearsCode'].astype(float)\n",
    "survey_df['YearsCodePro'] = survey_df['YearsCodePro'].astype(float)\n",
    "    \n",
    "survey_df.dtypes"
   ]
  },
  {
   "cell_type": "code",
   "execution_count": 15,
   "metadata": {
    "deletable": false,
    "editable": false,
    "nbgrader": {
     "cell_type": "code",
     "checksum": "8a6ac7a184baa06b11ff89d9402fed23",
     "grade": true,
     "grade_id": "cell-4ee41f84604837a1",
     "locked": true,
     "points": 0.5,
     "schema_version": 3,
     "solution": false,
     "task": false
    }
   },
   "outputs": [],
   "source": [
    "# TEST\n",
    "assert survey_df['YearsCode'].dtype in [np.float32, np.float64]\n",
    "assert survey_df['YearsCodePro'].dtype in [np.float32, np.float64]"
   ]
  },
  {
   "cell_type": "markdown",
   "metadata": {},
   "source": [
    "---"
   ]
  },
  {
   "cell_type": "markdown",
   "metadata": {},
   "source": [
    "## Quay lại bước khám phá dữ liệu "
   ]
  },
  {
   "cell_type": "markdown",
   "metadata": {},
   "source": [
    "### Với mỗi cột có kiểu dữ liệu dạng số, các giá trị được phân bố như thế nào? (1đ)\n",
    "\n",
    "(Trong đó: phần tính các mô tả của mỗi cột chiếm 0.5đ, phần tính số lượng giá trị không hợp lệ của mỗi cột chiếm 0.5đ)"
   ]
  },
  {
   "cell_type": "markdown",
   "metadata": {},
   "source": [
    "Với các cột có kiểu dữ liệu số, bạn sẽ tính:\n",
    "- Tỉ lệ % (từ 0 đến 100) các giá trị thiếu \n",
    "- Giá trị min\n",
    "- Giá trị lower quartile (phân vị 25)\n",
    "- Giá trị median (phân vị 50)\n",
    "- Giá trị upper quartile (phân vị 75)\n",
    "- Giá trị max\n",
    "\n",
    "Bạn sẽ lưu kết quả vào DataFrame `num_col_info_df`, trong đó: \n",
    "- Tên của các cột là tên của các cột số trong `survey_df`\n",
    "- Tên của các dòng là: \"missing_ratio\", \"min\", \"lower_quartile\", \"median\", \"upper_quartile\", \"max\"  \n",
    "\n",
    "Để dễ nhìn, tất cả các giá trị bạn đều làm tròn với 1 chữ số thập phân bằng phương thức `.round(1)`."
   ]
  },
  {
   "cell_type": "code",
   "execution_count": 16,
   "metadata": {
    "deletable": false,
    "nbgrader": {
     "cell_type": "code",
     "checksum": "27856a199be21471ed49e58ed0e59795",
     "grade": false,
     "grade_id": "cell-d1503f01712c873a",
     "locked": false,
     "schema_version": 3,
     "solution": true,
     "task": false
    }
   },
   "outputs": [
    {
     "data": {
      "text/html": [
       "<div>\n",
       "<style scoped>\n",
       "    .dataframe tbody tr th:only-of-type {\n",
       "        vertical-align: middle;\n",
       "    }\n",
       "\n",
       "    .dataframe tbody tr th {\n",
       "        vertical-align: top;\n",
       "    }\n",
       "\n",
       "    .dataframe thead th {\n",
       "        text-align: right;\n",
       "    }\n",
       "</style>\n",
       "<table border=\"1\" class=\"dataframe\">\n",
       "  <thead>\n",
       "    <tr style=\"text-align: right;\">\n",
       "      <th></th>\n",
       "      <th>Age</th>\n",
       "      <th>ConvertedComp</th>\n",
       "      <th>WorkWeekHrs</th>\n",
       "      <th>YearsCode</th>\n",
       "      <th>YearsCodePro</th>\n",
       "    </tr>\n",
       "  </thead>\n",
       "  <tbody>\n",
       "    <tr>\n",
       "      <th>missing_ratio</th>\n",
       "      <td>29.5</td>\n",
       "      <td>46.1</td>\n",
       "      <td>36.2</td>\n",
       "      <td>10.5</td>\n",
       "      <td>28.1</td>\n",
       "    </tr>\n",
       "    <tr>\n",
       "      <th>min</th>\n",
       "      <td>1.0</td>\n",
       "      <td>0.0</td>\n",
       "      <td>1.0</td>\n",
       "      <td>0.0</td>\n",
       "      <td>0.0</td>\n",
       "    </tr>\n",
       "    <tr>\n",
       "      <th>lower_quartile</th>\n",
       "      <td>24.0</td>\n",
       "      <td>24648.0</td>\n",
       "      <td>40.0</td>\n",
       "      <td>6.0</td>\n",
       "      <td>3.0</td>\n",
       "    </tr>\n",
       "    <tr>\n",
       "      <th>median</th>\n",
       "      <td>29.0</td>\n",
       "      <td>54049.0</td>\n",
       "      <td>40.0</td>\n",
       "      <td>10.0</td>\n",
       "      <td>6.0</td>\n",
       "    </tr>\n",
       "    <tr>\n",
       "      <th>upper_quartile</th>\n",
       "      <td>35.0</td>\n",
       "      <td>95000.0</td>\n",
       "      <td>44.0</td>\n",
       "      <td>17.0</td>\n",
       "      <td>12.0</td>\n",
       "    </tr>\n",
       "    <tr>\n",
       "      <th>max</th>\n",
       "      <td>279.0</td>\n",
       "      <td>2000000.0</td>\n",
       "      <td>475.0</td>\n",
       "      <td>51.0</td>\n",
       "      <td>51.0</td>\n",
       "    </tr>\n",
       "  </tbody>\n",
       "</table>\n",
       "</div>"
      ],
      "text/plain": [
       "                  Age  ConvertedComp  WorkWeekHrs  YearsCode  YearsCodePro\n",
       "missing_ratio   29.5   46.1           36.2         10.5       28.1        \n",
       "min             1.0    0.0            1.0          0.0        0.0         \n",
       "lower_quartile  24.0   24648.0        40.0         6.0        3.0         \n",
       "median          29.0   54049.0        40.0         10.0       6.0         \n",
       "upper_quartile  35.0   95000.0        44.0         17.0       12.0        \n",
       "max             279.0  2000000.0      475.0        51.0       51.0        "
      ]
     },
     "execution_count": 16,
     "metadata": {},
     "output_type": "execute_result"
    }
   ],
   "source": [
    "# YOUR CODE HERE\n",
    "# Tạo các list lưu các thông số: tỉ lệ thiếu, min, max, ... và lưu tên các cột là cột số \n",
    "lst_missing_ratio = []\n",
    "lst_min = []\n",
    "lst_lower_quartile = []\n",
    "lst_median = []\n",
    "lst_upper_quartile =[]\n",
    "lst_max = []\n",
    "lst_column = [] # lưu tên các cột thoả là cột số\n",
    "\n",
    "for i in range(0,shape[1]):\n",
    "    if str(survey_df[survey_df.columns[i]].dtypes) in 'float64': # Nếu cột là cột số trong survey_df\n",
    "        \n",
    "        # missing ratios\n",
    "        miss_ratio = survey_df[survey_df.columns[i]].isnull().sum() / shape[0] * 100\n",
    "        lst_missing_ratio.append(miss_ratio)\n",
    "\n",
    "        # min\n",
    "        minimun = survey_df[survey_df.columns[i]].describe()[3]\n",
    "        lst_min.append(minimun)\n",
    "        \n",
    "        # lower_quartile\n",
    "        lower_quartile = survey_df[survey_df.columns[i]].describe()[4]\n",
    "        lst_lower_quartile.append(lower_quartile)\n",
    "        \n",
    "        # median\n",
    "        median = survey_df[survey_df.columns[i]].describe()[5]\n",
    "        lst_median.append(median)\n",
    "        \n",
    "        # upper_quartile\n",
    "        upper_quartile = survey_df[survey_df.columns[i]].describe()[6]\n",
    "        lst_upper_quartile.append(upper_quartile)\n",
    "        \n",
    "        # max\n",
    "        maximum = survey_df[survey_df.columns[i]].describe()[7]\n",
    "        lst_max.append(maximum)\n",
    "\n",
    "        # column\n",
    "        lst_column.append(survey_df.columns[i])\n",
    "        \n",
    "data = {'missing_ratio': lst_missing_ratio, 'min': lst_min, 'lower_quartile': lst_lower_quartile,\n",
    "        'median': lst_median, 'upper_quartile': lst_upper_quartile, 'max': lst_max}\n",
    "\n",
    "num_col_info_df = pd.DataFrame.from_dict(data, orient='index', columns = lst_column).round(1)\n",
    "num_col_info_df"
   ]
  },
  {
   "cell_type": "code",
   "execution_count": 17,
   "metadata": {
    "deletable": false,
    "editable": false,
    "nbgrader": {
     "cell_type": "code",
     "checksum": "0c5c3348da27c3b8e45502125f14943a",
     "grade": true,
     "grade_id": "cell-b19aff83344102f8",
     "locked": true,
     "points": 0.5,
     "schema_version": 3,
     "solution": false,
     "task": false
    }
   },
   "outputs": [],
   "source": [
    "# TEST\n",
    "assert num_col_info_df.shape == (6, 5)\n",
    "data = num_col_info_df.loc[['missing_ratio', 'min', 'lower_quartile', 'median', 'upper_quartile', 'max'],\n",
    "                           ['Age', 'ConvertedComp', 'WorkWeekHrs', 'YearsCode', 'YearsCodePro']].values\n",
    "correct_data = np.array([[     29.5,      46.1,      36.2,      10.5,      28.1],\n",
    "                         [      1. ,       0. ,       1. ,       0. ,       0. ],\n",
    "                         [     24. ,   24648. ,      40. ,       6. ,       3. ],\n",
    "                         [     29. ,   54049. ,      40. ,      10. ,       6. ],\n",
    "                         [     35. ,   95000. ,      44. ,      17. ,      12. ],\n",
    "                         [    279. , 2000000. ,     475. ,      51. ,      51. ]])\n",
    "assert np.array_equal(data, correct_data)"
   ]
  },
  {
   "cell_type": "markdown",
   "metadata": {},
   "source": [
    "**Có giá trị không hợp lệ trong mỗi cột không? (không xét giá trị thiếu)**\n",
    "- Cột \"Age\": bạn hãy tính số lượng giá trị không hợp lệ của cột \"Age\" (< giá trị tương ứng trong cột \"YearsCode\" HOẶC < giá trị tương ứng trong cột \"YearsCodePro\") và lưu kết quả vào biến `num_invalid_Age_vals`.\n",
    "- Cột \"WorkWeekHrs\" (số giờ làm việc trung bình một tuần): ta thấy max là 475 giờ! Trong khi đó, 7 ngày * 24 giờ = 168 giờ! Bạn hãy tính số lượng giá trị không hợp lệ của cột \"WorkWeekHrs\" (> 24 * 7) và lưu kết quả vào biến `num_invalid_WorkWeekHrs`.\n",
    "- Cột \"YearsCode\": bạn hãy tính số lượng giá trị không hợp lệ của cột \"YearsCode\" (< giá trị tương ứng trong cột \"YearsCodePro\" HOẶC > giá trị tương ứng trong cột \"Age\") và lưu kết quả vào biến `num_invalid_YearsCode`.\n",
    "- Cột \"YearsCodePro\": bạn hãy tính số lượng giá trị không hợp lệ của cột \"YearsCodePro\" (> giá trị tương ứng trong cột \"YearsCode\" HOẶC > giá trị tương ứng trong cột \"Age\") và lưu kết quả vào biến `num_invalid_YearsCodePro`."
   ]
  },
  {
   "cell_type": "code",
   "execution_count": 18,
   "metadata": {
    "deletable": false,
    "nbgrader": {
     "cell_type": "code",
     "checksum": "90f9bb6ed444c8392723dd5aca893623",
     "grade": false,
     "grade_id": "cell-59a58bdc5f54bb25",
     "locked": false,
     "schema_version": 3,
     "solution": true,
     "task": false
    }
   },
   "outputs": [],
   "source": [
    "# YOUR CODE HERE\n",
    "num_invalid_Age_vals = 0\n",
    "num_invalid_WorkWeekHrs_vals = 0 \n",
    "num_invalid_YearsCode_vals = 0\n",
    "num_invalid_YearsCodePro_vals = 0\n",
    "\n",
    "# trả về 1 list chứa list của từng cột (xem như mảng 2 chiều)\n",
    "# Các cột tương ứng với index: Age = 2, WorkWeekHrs = 25, YearsCode = 26, YearsCodePro = 27\n",
    "values = survey_df.values\n",
    "\n",
    "for i in range(0, shape[0]):\n",
    " \n",
    "    if (values[i][2] < values[i][26]) or (values[i][2] < values[i][27]):\n",
    "        num_invalid_Age_vals += 1\n",
    "    \n",
    "    if (values[i][25] > 168):\n",
    "        num_invalid_WorkWeekHrs_vals += 1\n",
    "    \n",
    "    if (values[i][26] < values[i][27]) or (values[i][2] < values[i][26]):\n",
    "        num_invalid_YearsCode_vals += 1\n",
    "    \n",
    "    if (values[i][26] < values[i][27]) or (values[i][2] < values[i][27]):\n",
    "        num_invalid_YearsCodePro_vals += 1"
   ]
  },
  {
   "cell_type": "code",
   "execution_count": 19,
   "metadata": {
    "deletable": false,
    "editable": false,
    "nbgrader": {
     "cell_type": "code",
     "checksum": "d077cbc3ef8d27ae7380e560cf825ccf",
     "grade": true,
     "grade_id": "cell-386769471c5b4b8f",
     "locked": true,
     "points": 0.5,
     "schema_version": 3,
     "solution": false,
     "task": false
    }
   },
   "outputs": [],
   "source": [
    "# TEST\n",
    "assert num_invalid_WorkWeekHrs_vals == 62\n",
    "assert num_invalid_Age_vals == 16\n",
    "assert num_invalid_YearsCode_vals == 499\n",
    "assert num_invalid_YearsCodePro_vals == 486"
   ]
  },
  {
   "cell_type": "markdown",
   "metadata": {},
   "source": [
    "Do số lượng các giá trị không hợp lệ cũng khá ít nên ta có thể tiền xử lý bằng cách xóa các dòng chứa các giá trị không hợp lệ."
   ]
  },
  {
   "cell_type": "markdown",
   "metadata": {},
   "source": [
    "---"
   ]
  },
  {
   "cell_type": "markdown",
   "metadata": {},
   "source": [
    "## Tiền xử lý (0.5đ)"
   ]
  },
  {
   "cell_type": "markdown",
   "metadata": {},
   "source": [
    "Bạn sẽ thực hiện tiền xử lý để xóa đi các dòng của DataFrame `survey_df` mà chứa ít nhất là một giá trị không hợp lệ. Sau khi tiền xử lý thì `survey_df` sẽ thay đổi. "
   ]
  },
  {
   "cell_type": "code",
   "execution_count": 20,
   "metadata": {
    "deletable": false,
    "nbgrader": {
     "cell_type": "code",
     "checksum": "ce7e1b5a79e5743055a026055a75c175",
     "grade": false,
     "grade_id": "cell-6a6242ef6d2c8c65",
     "locked": false,
     "schema_version": 3,
     "solution": true,
     "task": false
    }
   },
   "outputs": [],
   "source": [
    "# YOUR CODE HERE\n",
    "lst_drop = []\n",
    "for i in range(0, shape[0]):\n",
    " \n",
    "    if (values[i][2] < values[i][26]) or (values[i][2] < values[i][27]):\n",
    "        lst_drop.append(survey_df.index.values[i])\n",
    "        continue\n",
    "    \n",
    "    elif (values[i][25] > 168):\n",
    "        lst_drop.append(survey_df.index.values[i])\n",
    "        continue\n",
    "    \n",
    "    elif (values[i][26] < values[i][27]) or (values[i][2] < values[i][26]):\n",
    "        lst_drop.append(survey_df.index.values[i])\n",
    "        continue\n",
    "    \n",
    "    elif (values[i][26] < values[i][27]) or (values[i][2] < values[i][27]):\n",
    "        lst_drop.append(survey_df.index.values[i])\n",
    "        continue\n",
    "survey_df.drop(lst_drop, axis = 0,  inplace=True)"
   ]
  },
  {
   "cell_type": "code",
   "execution_count": 21,
   "metadata": {
    "deletable": false,
    "editable": false,
    "nbgrader": {
     "cell_type": "code",
     "checksum": "93bbf1f7cc93f01d800d703aeb494f04",
     "grade": true,
     "grade_id": "cell-9d04f770468db3c8",
     "locked": true,
     "points": 0.5,
     "schema_version": 3,
     "solution": false,
     "task": false
    }
   },
   "outputs": [],
   "source": [
    "# TEST\n",
    "assert len(survey_df) == 63900"
   ]
  },
  {
   "cell_type": "markdown",
   "metadata": {},
   "source": [
    "---"
   ]
  },
  {
   "cell_type": "markdown",
   "metadata": {},
   "source": [
    "## Quay lại bước khám phá dữ liệu"
   ]
  },
  {
   "cell_type": "markdown",
   "metadata": {},
   "source": [
    "### Với mỗi cột có kiểu dữ liệu không phải dạng số, các giá trị được phân bố như thế nào? (1đ)"
   ]
  },
  {
   "cell_type": "markdown",
   "metadata": {},
   "source": [
    "Với các cột có kiểu dữ liệu không phải số, bạn sẽ tính:\n",
    "- Tỉ lệ % (từ 0 đến 100) các giá trị thiếu \n",
    "- Số lượng các giá trị (các giá trị ở đây là các giá trị khác nhau và ta không xét giá trị thiếu): với cột mà ứng với câu hỏi dạng multichoice (ví dụ, cột \"DevType\"), mỗi giá trị có thể chứa nhiều choice (các choice được phân tách bởi dấu chấm phẩy), và việc đếm trực tiếp các giá trị không có nhiều ý nghĩa lắm vì số lượng tổ hợp các choice là khá nhiều; một cách khác tốt hơn mà bạn sẽ làm là đếm số lượng các choice\n",
    "- Tỉ lệ % (từ 0 đến 100) của mỗi giá trị được sort theo tỉ lệ % giảm dần (ta không xét giá trị thiếu, tỉ lệ là tỉ lệ so với số lượng các giá trị không thiếu): bạn dùng dictionary để lưu, key là giá trị, value là tỉ lệ %; với cột mà ứng với câu hỏi dạng multichoice, cách làm tương tự như ở trên\n",
    "\n",
    "Bạn sẽ lưu kết quả vào DataFrame `cat_col_info_df`, trong đó: \n",
    "- Tên của các cột là tên của các cột không phải số trong `survey_df`\n",
    "- Tên của các dòng là: \"missing_ratio\", \"num_values\", \"value_ratios\"  \n",
    "\n",
    "Để dễ nhìn, tất cả các giá trị bạn đều làm tròn với 1 chữ số thập phân bằng phương thức `.round(1)`.\n",
    "\n",
    "Gợi ý: có thể bạn sẽ muốn dùng [phương thức `explode`](https://pandas.pydata.org/pandas-docs/stable/reference/api/pandas.Series.explode.html)."
   ]
  },
  {
   "cell_type": "code",
   "execution_count": 22,
   "metadata": {},
   "outputs": [],
   "source": [
    "# Các cột ứng với câu hỏi khảo sát multichoice\n",
    "multichoice_cols = ['DevType', 'Gender', 'JobFactors', \n",
    "                    'LanguageWorkedWith', 'LanguageDesireNextYear', \n",
    "                    'MiscTechWorkedWith', 'MiscTechDesireNextYear', \n",
    "                    'NEWCollabToolsWorkedWith', 'NEWCollabToolsDesireNextYear', \n",
    "                    'PlatformWorkedWith', 'PlatformDesireNextYear', \n",
    "                    'NEWStuck']"
   ]
  },
  {
   "cell_type": "code",
   "execution_count": 23,
   "metadata": {
    "deletable": false,
    "nbgrader": {
     "cell_type": "code",
     "checksum": "f8d948f8f820ee1273345c369169e9ae",
     "grade": false,
     "grade_id": "cell-c1cfa0a88177079d",
     "locked": false,
     "schema_version": 3,
     "solution": true,
     "task": false
    }
   },
   "outputs": [
    {
     "data": {
      "text/html": [
       "<div>\n",
       "<style scoped>\n",
       "    .dataframe tbody tr th:only-of-type {\n",
       "        vertical-align: middle;\n",
       "    }\n",
       "\n",
       "    .dataframe tbody tr th {\n",
       "        vertical-align: top;\n",
       "    }\n",
       "\n",
       "    .dataframe thead th {\n",
       "        text-align: right;\n",
       "    }\n",
       "</style>\n",
       "<table border=\"1\" class=\"dataframe\">\n",
       "  <thead>\n",
       "    <tr style=\"text-align: right;\">\n",
       "      <th></th>\n",
       "      <th>MainBranch</th>\n",
       "      <th>Hobbyist</th>\n",
       "      <th>Country</th>\n",
       "      <th>DevType</th>\n",
       "      <th>EdLevel</th>\n",
       "      <th>Employment</th>\n",
       "      <th>Ethnicity</th>\n",
       "      <th>Gender</th>\n",
       "      <th>JobFactors</th>\n",
       "      <th>JobSat</th>\n",
       "      <th>LanguageDesireNextYear</th>\n",
       "      <th>LanguageWorkedWith</th>\n",
       "      <th>MiscTechDesireNextYear</th>\n",
       "      <th>MiscTechWorkedWith</th>\n",
       "      <th>NEWCollabToolsDesireNextYear</th>\n",
       "      <th>NEWCollabToolsWorkedWith</th>\n",
       "      <th>NEWEdImpt</th>\n",
       "      <th>NEWLearn</th>\n",
       "      <th>NEWOvertime</th>\n",
       "      <th>NEWStuck</th>\n",
       "      <th>OpSys</th>\n",
       "      <th>PlatformDesireNextYear</th>\n",
       "      <th>PlatformWorkedWith</th>\n",
       "    </tr>\n",
       "  </thead>\n",
       "  <tbody>\n",
       "    <tr>\n",
       "      <th>missing_ratio</th>\n",
       "      <td>0.5</td>\n",
       "      <td>0.1</td>\n",
       "      <td>0.6</td>\n",
       "      <td>23.6</td>\n",
       "      <td>11</td>\n",
       "      <td>0.9</td>\n",
       "      <td>28.6</td>\n",
       "      <td>21.5</td>\n",
       "      <td>23.4</td>\n",
       "      <td>30.1</td>\n",
       "      <td>16</td>\n",
       "      <td>11</td>\n",
       "      <td>34.3</td>\n",
       "      <td>37.5</td>\n",
       "      <td>26.6</td>\n",
       "      <td>18</td>\n",
       "      <td>25</td>\n",
       "      <td>12.9</td>\n",
       "      <td>33.1</td>\n",
       "      <td>14.7</td>\n",
       "      <td>12.8</td>\n",
       "      <td>21.5</td>\n",
       "      <td>16.5</td>\n",
       "    </tr>\n",
       "    <tr>\n",
       "      <th>num_values</th>\n",
       "      <td>5</td>\n",
       "      <td>2</td>\n",
       "      <td>183</td>\n",
       "      <td>23</td>\n",
       "      <td>9</td>\n",
       "      <td>7</td>\n",
       "      <td>10</td>\n",
       "      <td>3</td>\n",
       "      <td>11</td>\n",
       "      <td>5</td>\n",
       "      <td>25</td>\n",
       "      <td>25</td>\n",
       "      <td>19</td>\n",
       "      <td>19</td>\n",
       "      <td>11</td>\n",
       "      <td>11</td>\n",
       "      <td>5</td>\n",
       "      <td>4</td>\n",
       "      <td>5</td>\n",
       "      <td>9</td>\n",
       "      <td>4</td>\n",
       "      <td>16</td>\n",
       "      <td>16</td>\n",
       "    </tr>\n",
       "    <tr>\n",
       "      <th>value_ratios</th>\n",
       "      <td>{'I am a developer by profession': 73.5, 'I am a student who is learning to code': 12.5, 'I am n...</td>\n",
       "      <td>{'Yes': 78.2, 'No': 21.8}</td>\n",
       "      <td>{'United States': 19.5, 'India': 13.0, 'Germany': 6.1, 'United Kingdom': 6.1, 'Canada': 3.4, 'Fr...</td>\n",
       "      <td>{'Developer, back-end': 17.4, 'Developer, full-stack': 17.3, 'Developer, front-end': 11.7, 'Deve...</td>\n",
       "      <td>{'Bachelor’s degree (B.A., B.S., B.Eng., etc.)': 46.3, 'Master’s degree (M.A., M.S., M.Eng., MBA...</td>\n",
       "      <td>{'Employed full-time': 70.8, 'Student': 12.3, 'Independent contractor, freelancer, or self-emplo...</td>\n",
       "      <td>{'White or of European descent': 63.1, 'South Asian': 9.5, 'Hispanic or Latino/a/x': 7.0, 'Middl...</td>\n",
       "      <td>{'Man': 90.8, 'Woman': 7.9, 'Non-binary, genderqueer, or gender non-conforming': 1.2}</td>\n",
       "      <td>{'Languages, frameworks, and other technologies I’d be working with': 17.5, 'Office environment ...</td>\n",
       "      <td>{'Very satisfied': 32.4, 'Slightly satisfied': 30.9, 'Slightly dissatisfied': 15.8, 'Neither sat...</td>\n",
       "      <td>{'Python': 11.2, 'JavaScript': 11.0, 'HTML/CSS': 8.7, 'SQL': 8.4, 'TypeScript': 7.2, 'C#': 5.7, ...</td>\n",
       "      <td>{'JavaScript': 13.5, 'HTML/CSS': 12.6, 'SQL': 10.9, 'Python': 8.8, 'Java': 8.0, 'Bash/Shell/Powe...</td>\n",
       "      <td>{'Node.js': 17.0, 'TensorFlow': 10.1, '.NET Core': 9.6, 'React Native': 8.4, '.NET': 6.9, 'Flutt...</td>\n",
       "      <td>{'Node.js': 23.1, '.NET': 15.7, '.NET Core': 12.0, 'Pandas': 7.0, 'TensorFlow': 5.2, 'React Nati...</td>\n",
       "      <td>{'Github': 24.7, 'Slack': 14.1, 'Gitlab': 11.3, 'Google Suite (Docs, Meet, etc)': 10.6, 'Jira': ...</td>\n",
       "      <td>{'Github': 22.2, 'Slack': 14.2, 'Jira': 12.8, 'Google Suite (Docs, Meet, etc)': 11.1, 'Gitlab': ...</td>\n",
       "      <td>{'Fairly important': 26.2, 'Very important': 24.4, 'Somewhat important': 23.5, 'Not at all impor...</td>\n",
       "      <td>{'Every few months': 37.3, 'Once a year': 36.9, 'Once every few years': 23.7, 'Once a decade': 2.2}</td>\n",
       "      <td>{'Sometimes: 1-2 days per month but less than weekly': 26.7, 'Often: 1-2 days per week or more':...</td>\n",
       "      <td>{'Visit Stack Overflow': 26.7, 'Do other work and come back later': 16.1, 'Watch help / tutorial...</td>\n",
       "      <td>{'Windows': 48.3, 'Linux-based': 26.6, 'MacOS': 25.1, 'BSD': 0.1}</td>\n",
       "      <td>{'Linux': 14.3, 'Docker': 12.2, 'AWS': 9.6, 'Windows': 9.3, 'Android': 7.9, 'Kubernetes': 7.3, '...</td>\n",
       "      <td>{'Linux': 16.6, 'Windows': 16.0, 'Docker': 10.6, 'AWS': 8.1, 'Android': 7.9, 'MacOS': 7.2, 'Rasp...</td>\n",
       "    </tr>\n",
       "  </tbody>\n",
       "</table>\n",
       "</div>"
      ],
      "text/plain": [
       "                                                                                                        MainBranch  \\\n",
       "missing_ratio                                                                                                  0.5   \n",
       "num_values                                                                                                       5   \n",
       "value_ratios   {'I am a developer by profession': 73.5, 'I am a student who is learning to code': 12.5, 'I am n...   \n",
       "\n",
       "                                Hobbyist  \\\n",
       "missing_ratio                        0.1   \n",
       "num_values                             2   \n",
       "value_ratios   {'Yes': 78.2, 'No': 21.8}   \n",
       "\n",
       "                                                                                                           Country  \\\n",
       "missing_ratio                                                                                                  0.6   \n",
       "num_values                                                                                                     183   \n",
       "value_ratios   {'United States': 19.5, 'India': 13.0, 'Germany': 6.1, 'United Kingdom': 6.1, 'Canada': 3.4, 'Fr...   \n",
       "\n",
       "                                                                                                           DevType  \\\n",
       "missing_ratio                                                                                                 23.6   \n",
       "num_values                                                                                                      23   \n",
       "value_ratios   {'Developer, back-end': 17.4, 'Developer, full-stack': 17.3, 'Developer, front-end': 11.7, 'Deve...   \n",
       "\n",
       "                                                                                                           EdLevel  \\\n",
       "missing_ratio                                                                                                   11   \n",
       "num_values                                                                                                       9   \n",
       "value_ratios   {'Bachelor’s degree (B.A., B.S., B.Eng., etc.)': 46.3, 'Master’s degree (M.A., M.S., M.Eng., MBA...   \n",
       "\n",
       "                                                                                                        Employment  \\\n",
       "missing_ratio                                                                                                  0.9   \n",
       "num_values                                                                                                       7   \n",
       "value_ratios   {'Employed full-time': 70.8, 'Student': 12.3, 'Independent contractor, freelancer, or self-emplo...   \n",
       "\n",
       "                                                                                                         Ethnicity  \\\n",
       "missing_ratio                                                                                                 28.6   \n",
       "num_values                                                                                                      10   \n",
       "value_ratios   {'White or of European descent': 63.1, 'South Asian': 9.5, 'Hispanic or Latino/a/x': 7.0, 'Middl...   \n",
       "\n",
       "                                                                                              Gender  \\\n",
       "missing_ratio                                                                                   21.5   \n",
       "num_values                                                                                         3   \n",
       "value_ratios   {'Man': 90.8, 'Woman': 7.9, 'Non-binary, genderqueer, or gender non-conforming': 1.2}   \n",
       "\n",
       "                                                                                                        JobFactors  \\\n",
       "missing_ratio                                                                                                 23.4   \n",
       "num_values                                                                                                      11   \n",
       "value_ratios   {'Languages, frameworks, and other technologies I’d be working with': 17.5, 'Office environment ...   \n",
       "\n",
       "                                                                                                            JobSat  \\\n",
       "missing_ratio                                                                                                 30.1   \n",
       "num_values                                                                                                       5   \n",
       "value_ratios   {'Very satisfied': 32.4, 'Slightly satisfied': 30.9, 'Slightly dissatisfied': 15.8, 'Neither sat...   \n",
       "\n",
       "                                                                                            LanguageDesireNextYear  \\\n",
       "missing_ratio                                                                                                   16   \n",
       "num_values                                                                                                      25   \n",
       "value_ratios   {'Python': 11.2, 'JavaScript': 11.0, 'HTML/CSS': 8.7, 'SQL': 8.4, 'TypeScript': 7.2, 'C#': 5.7, ...   \n",
       "\n",
       "                                                                                                LanguageWorkedWith  \\\n",
       "missing_ratio                                                                                                   11   \n",
       "num_values                                                                                                      25   \n",
       "value_ratios   {'JavaScript': 13.5, 'HTML/CSS': 12.6, 'SQL': 10.9, 'Python': 8.8, 'Java': 8.0, 'Bash/Shell/Powe...   \n",
       "\n",
       "                                                                                            MiscTechDesireNextYear  \\\n",
       "missing_ratio                                                                                                 34.3   \n",
       "num_values                                                                                                      19   \n",
       "value_ratios   {'Node.js': 17.0, 'TensorFlow': 10.1, '.NET Core': 9.6, 'React Native': 8.4, '.NET': 6.9, 'Flutt...   \n",
       "\n",
       "                                                                                                MiscTechWorkedWith  \\\n",
       "missing_ratio                                                                                                 37.5   \n",
       "num_values                                                                                                      19   \n",
       "value_ratios   {'Node.js': 23.1, '.NET': 15.7, '.NET Core': 12.0, 'Pandas': 7.0, 'TensorFlow': 5.2, 'React Nati...   \n",
       "\n",
       "                                                                                      NEWCollabToolsDesireNextYear  \\\n",
       "missing_ratio                                                                                                 26.6   \n",
       "num_values                                                                                                      11   \n",
       "value_ratios   {'Github': 24.7, 'Slack': 14.1, 'Gitlab': 11.3, 'Google Suite (Docs, Meet, etc)': 10.6, 'Jira': ...   \n",
       "\n",
       "                                                                                          NEWCollabToolsWorkedWith  \\\n",
       "missing_ratio                                                                                                   18   \n",
       "num_values                                                                                                      11   \n",
       "value_ratios   {'Github': 22.2, 'Slack': 14.2, 'Jira': 12.8, 'Google Suite (Docs, Meet, etc)': 11.1, 'Gitlab': ...   \n",
       "\n",
       "                                                                                                         NEWEdImpt  \\\n",
       "missing_ratio                                                                                                   25   \n",
       "num_values                                                                                                       5   \n",
       "value_ratios   {'Fairly important': 26.2, 'Very important': 24.4, 'Somewhat important': 23.5, 'Not at all impor...   \n",
       "\n",
       "                                                                                                          NEWLearn  \\\n",
       "missing_ratio                                                                                                 12.9   \n",
       "num_values                                                                                                       4   \n",
       "value_ratios   {'Every few months': 37.3, 'Once a year': 36.9, 'Once every few years': 23.7, 'Once a decade': 2.2}   \n",
       "\n",
       "                                                                                                       NEWOvertime  \\\n",
       "missing_ratio                                                                                                 33.1   \n",
       "num_values                                                                                                       5   \n",
       "value_ratios   {'Sometimes: 1-2 days per month but less than weekly': 26.7, 'Often: 1-2 days per week or more':...   \n",
       "\n",
       "                                                                                                          NEWStuck  \\\n",
       "missing_ratio                                                                                                 14.7   \n",
       "num_values                                                                                                       9   \n",
       "value_ratios   {'Visit Stack Overflow': 26.7, 'Do other work and come back later': 16.1, 'Watch help / tutorial...   \n",
       "\n",
       "                                                                           OpSys  \\\n",
       "missing_ratio                                                               12.8   \n",
       "num_values                                                                     4   \n",
       "value_ratios   {'Windows': 48.3, 'Linux-based': 26.6, 'MacOS': 25.1, 'BSD': 0.1}   \n",
       "\n",
       "                                                                                            PlatformDesireNextYear  \\\n",
       "missing_ratio                                                                                                 21.5   \n",
       "num_values                                                                                                      16   \n",
       "value_ratios   {'Linux': 14.3, 'Docker': 12.2, 'AWS': 9.6, 'Windows': 9.3, 'Android': 7.9, 'Kubernetes': 7.3, '...   \n",
       "\n",
       "                                                                                                PlatformWorkedWith  \n",
       "missing_ratio                                                                                                 16.5  \n",
       "num_values                                                                                                      16  \n",
       "value_ratios   {'Linux': 16.6, 'Windows': 16.0, 'Docker': 10.6, 'AWS': 8.1, 'Android': 7.9, 'MacOS': 7.2, 'Rasp...  "
      ]
     },
     "execution_count": 23,
     "metadata": {},
     "output_type": "execute_result"
    }
   ],
   "source": [
    "pd.set_option('display.max_colwidth', 100) # Để dễ nhìn\n",
    "pd.set_option('display.max_columns', None) # Để dễ nhìn\n",
    "# YOUR CODE HERE\n",
    "\n",
    "# Tạo các list lưu các thông số: tỉ lệ thiếu, num_values, value_ratios\n",
    "lst_missing_ratio = []\n",
    "lst_num_values = []\n",
    "lst_value_ratios = []\n",
    "\n",
    "lst_column = []\n",
    "for i in range(0,shape[1]):\n",
    "    column = survey_df[survey_df.columns[i]]\n",
    "    column_name = survey_df.columns[i]\n",
    "\n",
    "\n",
    "    if str(column.dtypes) in 'object': # Nếu cột là cột số trong survey_df\n",
    "        \n",
    "        # -------------------- Tỉ lệ % (từ 0 đến 100) các giá trị thiếu---------------\n",
    "        count_missing = column.isnull().sum()\n",
    "        miss_ratio = round(count_missing / len(survey_df) * 100, 1)\n",
    "        lst_missing_ratio.append(miss_ratio)\n",
    "\n",
    "        \n",
    "        # ----------------- Số lượng các giá trị -------------------------\n",
    "        tmp_arr = [] # Mảng dùng để lưu các giá trị của 1 cột tạo thành 1 list, \n",
    "        for j in column:\n",
    "            if type(j) == str:         # Loại bỏ các missing values\n",
    "                tmp_str = j.split(';') # Tách các giá trị cách nhau bằng dấu ';'\n",
    "                tmp_arr.extend(tmp_str)\n",
    "                \n",
    "        num_value = len((Counter(tmp_arr)))\n",
    "        lst_num_values.append(num_value)\n",
    "        \n",
    "        \n",
    "        # ---------------- Tỉ lệ % của mỗi giá trị được sort -----------------\n",
    "        tmp_data_dict = Counter(tmp_arr)\n",
    "        sum_values_column = sum(tmp_data_dict.values())\n",
    "        tmp_value_dict = {}\n",
    "        for k in tmp_data_dict:\n",
    "            count_k = tmp_data_dict[k]\n",
    "            k_per = round((100 * count_k) / sum_values_column , 1) \n",
    "            tmp_value_dict[k] = k_per\n",
    "            #---------- Sắp xếp theo giảm dần % ------------------     \n",
    "        sorted_tuples = sorted(tmp_value_dict.items(), key=operator.itemgetter(1), reverse=True)\n",
    "        sorted_dict = OrderedDict()\n",
    "        for k, v in sorted_tuples:\n",
    "            sorted_dict[k] = v\n",
    "            \n",
    "        lst_value_ratios.append(sorted_dict)\n",
    "        \n",
    "        # Thêm các giá trị vào các dòng\n",
    "        lst_column.append(column_name)\n",
    "        \n",
    "data = {'missing_ratio': lst_missing_ratio, 'num_values' : lst_num_values, 'value_ratios' : lst_value_ratios}\n",
    "cat_col_info_df = pd.DataFrame.from_dict(data, orient='index', columns = lst_column)\n",
    "\n",
    "cat_col_info_df"
   ]
  },
  {
   "cell_type": "code",
   "execution_count": 24,
   "metadata": {
    "deletable": false,
    "editable": false,
    "nbgrader": {
     "cell_type": "code",
     "checksum": "0828bb8f1642741d49345f1ab612bc3d",
     "grade": true,
     "grade_id": "cell-e748038de60d2ab7",
     "locked": true,
     "points": 1,
     "schema_version": 3,
     "solution": false,
     "task": false
    }
   },
   "outputs": [],
   "source": [
    "# TEST\n",
    "c = cat_col_info_df['MainBranch']\n",
    "assert c.loc['missing_ratio'] == 0.5\n",
    "assert c.loc['num_values'] == 5\n",
    "assert c.loc['value_ratios']['I am a developer by profession'] == 73.5\n",
    "\n",
    "c = cat_col_info_df['Hobbyist']\n",
    "assert c.loc['missing_ratio'] == 0.1\n",
    "assert c.loc['num_values'] == 2\n",
    "assert c.loc['value_ratios']['Yes'] == 78.2\n",
    "\n",
    "c = cat_col_info_df['DevType']\n",
    "assert c.loc['missing_ratio'] == 23.6\n",
    "assert c.loc['num_values'] == 23\n",
    "assert c.loc['value_ratios']['Academic researcher'] == 2.2\n",
    "\n",
    "c = cat_col_info_df['PlatformWorkedWith']\n",
    "assert c.loc['missing_ratio'] == 16.5\n",
    "assert c.loc['num_values'] == 16\n",
    "assert c.loc['value_ratios']['Docker'] == 10.6"
   ]
  },
  {
   "cell_type": "markdown",
   "metadata": {},
   "source": [
    "---"
   ]
  },
  {
   "cell_type": "markdown",
   "metadata": {},
   "source": [
    "## Đặt câu hỏi "
   ]
  },
  {
   "cell_type": "markdown",
   "metadata": {},
   "source": [
    "Sau khi khám phá dữ liệu, ta đã hiểu hơn về dữ liệu. Bây giờ, ta hãy xem thử có câu hỏi nào có thể được trả lời bằng dữ liệu này.\n",
    "\n",
    "**Một câu hỏi có thể có là:** Platform nào (Windows, Linux, Docker, AWS, ...) được yêu thích nhất, platform nào được yêu thích nhì, platform nào được yêu thích ba, ...?\n",
    "\n",
    "Một platform được xem là được yêu thích nếu một người đã dùng platform này (cột \"PlatformWorkedWith\") và muốn tiếp tục dùng platform trong năm kế (cột \"PlatformDesireNextYear\").\n",
    "\n",
    "**Trả lời được câu hỏi này sẽ** phần nào giúp ta định hướng là nên tập trung học platform nào để có thể chuẩn bị cho tương lai (mình nói \"phần nào\" vì ở đây dữ liệu chỉ giới hạn trong phạm vi những người làm khảo sát của StackOverflow)."
   ]
  },
  {
   "cell_type": "markdown",
   "metadata": {},
   "source": [
    "---"
   ]
  },
  {
   "cell_type": "markdown",
   "metadata": {},
   "source": [
    "## Tiền xử lý"
   ]
  },
  {
   "cell_type": "markdown",
   "metadata": {},
   "source": [
    "Nếu bạn thấy cần thực hiện thêm thao tác tiền xử lý để chuẩn bị dữ liệu cho bước phân tích thì bạn làm ở đây. Bước này là không bắt buộc. "
   ]
  },
  {
   "cell_type": "code",
   "execution_count": 25,
   "metadata": {},
   "outputs": [],
   "source": [
    "# YOUR CODE HERE (OPTION) "
   ]
  },
  {
   "cell_type": "markdown",
   "metadata": {},
   "source": [
    "---"
   ]
  },
  {
   "cell_type": "markdown",
   "metadata": {},
   "source": [
    "## Phân tích dữ liệu (2.25đ)"
   ]
  },
  {
   "cell_type": "markdown",
   "metadata": {},
   "source": [
    "Bây giờ, bạn sẽ thực hiện phân tích dữ liệu để trả lời cho câu hỏi ở trên. Cụ thể các bước như sau:\n",
    "- Bước 1: tính Series `most_loved_platforms`, trong đó: \n",
    "    - Index là tên flatform (ở bước khám phá dữ liệu, bạn đã thấy có tất cả 16 platform)\n",
    "    - Data là tỉ lệ % (từ 0 đến 100, được làm tròn với một chữ số thập phân bằng phương thức `round(1)`) được yêu thích (được sort giảm dần) \n",
    "- Bước 2: từ Series `most_loved_platforms`, bạn vẽ bar chart:\n",
    "    - Bạn cho các bar nằm ngang (cho dễ nhìn)\n",
    "    - Bạn đặt tên trục hoành là \"Tỉ lệ %\""
   ]
  },
  {
   "cell_type": "markdown",
   "metadata": {},
   "source": [
    "Code bước 1."
   ]
  },
  {
   "cell_type": "code",
   "execution_count": 26,
   "metadata": {
    "deletable": false,
    "nbgrader": {
     "cell_type": "code",
     "checksum": "0a9055745bab2ee00733aac0a056b17f",
     "grade": false,
     "grade_id": "cell-6d34c88e2fd46b33",
     "locked": false,
     "schema_version": 3,
     "solution": true,
     "task": false
    }
   },
   "outputs": [
    {
     "data": {
      "text/plain": [
       "Linux                          20.2\n",
       "Windows                        14.6\n",
       "Docker                         12.3\n",
       "AWS                             8.5\n",
       "Android                         7.1\n",
       "MacOS                           7.4\n",
       "Raspberry Pi                    4.7\n",
       "Microsoft Azure                 4.3\n",
       "WordPress                       2.2\n",
       "Google Cloud Platform           4.1\n",
       "iOS                             3.5\n",
       "Kubernetes                      3.9\n",
       "Heroku                          2.4\n",
       "Arduino                         2.7\n",
       "Slack Apps and Integrations     1.8\n",
       "IBM Cloud or Watson             0.3\n",
       "dtype: float64"
      ]
     },
     "execution_count": 26,
     "metadata": {},
     "output_type": "execute_result"
    }
   ],
   "source": [
    "# YOUR CODE HERE\n",
    "# most_loved_platforms = pd.\n",
    "# most_loved_platforms PlatformWorkedWith\n",
    "\n",
    "lst_index = list(cat_col_info_df['PlatformWorkedWith']['value_ratios'])\n",
    "\n",
    "dict_platform = dict.fromkeys(lst_index, 0)\n",
    "\n",
    "# duyệt song song cả hai cột\n",
    "for a,b in zip(survey_df.PlatformWorkedWith, survey_df.PlatformDesireNextYear): \n",
    "    if type(a) == str and type(b) == str:         # Loại bỏ các missing values\n",
    "        lst_a = a.split(';') # Tách các giá trị cách nhau bằng dấu ';'\n",
    "        lst_b = b.split(';') # Tách các giá trị cách nhau bằng dấu ';'\n",
    "        for i in lst_a:\n",
    "            if i in lst_b:\n",
    "                dict_platform[i] += 1\n",
    "total_count = sum(dict_platform.values())\n",
    "for i in dict_platform:\n",
    "    dict_platform[i] = round(100 * dict_platform[i] / total_count, 1)  \n",
    "most_loved_platforms = pd.Series(dict_platform)\n",
    "most_loved_platforms"
   ]
  },
  {
   "cell_type": "code",
   "execution_count": 27,
   "metadata": {
    "deletable": false,
    "editable": false,
    "nbgrader": {
     "cell_type": "code",
     "checksum": "0e1af6ae8a0d65cf90e9d8d9276bf6bb",
     "grade": true,
     "grade_id": "cell-1d22896d0f3f2394",
     "locked": true,
     "points": 2,
     "schema_version": 3,
     "solution": false,
     "task": false
    }
   },
   "outputs": [],
   "source": [
    "# TEST\n",
    "assert len(most_loved_platforms) == 16\n",
    "assert most_loved_platforms.loc['Linux'] == 20.2\n",
    "assert most_loved_platforms.loc['Windows'] == 14.6\n",
    "assert most_loved_platforms.loc['Docker'] == 12.3"
   ]
  },
  {
   "cell_type": "markdown",
   "metadata": {},
   "source": [
    "Code bước 2."
   ]
  },
  {
   "cell_type": "code",
   "execution_count": 28,
   "metadata": {
    "deletable": false,
    "nbgrader": {
     "cell_type": "code",
     "checksum": "e9113040c23a1b8cbfde861c4efe685f",
     "grade": true,
     "grade_id": "cell-5395c611d6065339",
     "locked": false,
     "points": 0.25,
     "schema_version": 3,
     "solution": true,
     "task": false
    }
   },
   "outputs": [
    {
     "data": {
      "text/plain": [
       "<AxesSubplot:title={'center':'Biểu đồ các Platforms được yêu thích'}, xlabel='Tỉ lệ %', ylabel='Platforms'>"
      ]
     },
     "execution_count": 28,
     "metadata": {},
     "output_type": "execute_result"
    },
    {
     "data": {
      "image/png": "[encoded data removed]",
      "text/plain": [
       "<Figure size 432x288 with 1 Axes>"
      ]
     },
     "metadata": {
      "needs_background": "light"
     },
     "output_type": "display_data"
    }
   ],
   "source": [
    "# YOUR CODE HERE\n",
    "most_loved_platforms = most_loved_platforms.sort_values(ascending = True)\n",
    "\n",
    "draw_plot = most_loved_platforms.plot(kind = 'barh', color = 'orange')\n",
    "draw_plot.set_title('Biểu đồ các Platforms được yêu thích')\n",
    "draw_plot.set_xlabel('Tỉ lệ %')\n",
    "draw_plot.set_ylabel('Platforms')\n",
    "draw_plot.legend('%')\n",
    "\n",
    "draw_plot"
   ]
  },
  {
   "cell_type": "markdown",
   "metadata": {},
   "source": [
    "Bạn đã hiểu tại sao mình khuyên bạn là nên tập làm quen dần với các câu lệnh của Linux chưa 😉 "
   ]
  },
  {
   "cell_type": "markdown",
   "metadata": {},
   "source": [
    "---"
   ]
  },
  {
   "cell_type": "markdown",
   "metadata": {},
   "source": [
    "## Đặt câu hỏi của bạn (1.5đ)"
   ]
  },
  {
   "cell_type": "markdown",
   "metadata": {},
   "source": [
    "Bây giờ, đến lượt bạn phải tự suy nghĩ và đưa ra câu hỏi mà có thể trả lời bằng dữ liệu. Ngoài việc đưa ra câu hỏi, bạn cũng phải giải thích để người đọc thấy nếu trả lời được câu hỏi thì sẽ có lợi ích gì. Bạn không nên đưa ra câu hỏi cùng dạng với câu hỏi của mình ở trên.  "
   ]
  },
  {
   "cell_type": "markdown",
   "metadata": {
    "deletable": false,
    "nbgrader": {
     "cell_type": "markdown",
     "checksum": "8e88fb70d5a2aac41af1566276a95321",
     "grade": true,
     "grade_id": "cell-2e7a92ae99ca7449",
     "locked": false,
     "points": 1.5,
     "schema_version": 3,
     "solution": true,
     "task": false
    }
   },
   "source": [
    "YOUR ANSWER HERE"
   ]
  },
  {
   "cell_type": "markdown",
   "metadata": {},
   "source": [
    "###   QUỐC GIA TRẢ LƯƠNG CAO CHO LẬP TRÌNH VIÊN\n",
    "- **Câu hỏi:** Quốc gia nào trả lương cho lập trình viên cao nhất? \n",
    "\n",
    "- **Trả lời:** Một quốc gia trả tiền cho lập trinh viên cao nhất khi mức lương trung bình của lập trình viên ở quốc gia đó là cao nhất.\n",
    "\n",
    "**Trả lời được câu hỏi này** sẽ phần nào giúp ta có thể xem xét về việc nên làm việc ở đâu trong hiện tại hoặc tương lai.\n",
    "\n",
    "**Phương pháp phân tích:** Ta dùng 1 Series most_salary_countries với:\n",
    "    - index là tên ngôn ngữ\n",
    "    - Data là mức lương trung bình của ngôn ngữ đó"
   ]
  },
  {
   "cell_type": "markdown",
   "metadata": {},
   "source": [
    "## Tiền xử lý để chuẩn bị dữ liệu cho bước phân tích để trả lời cho câu hỏi của bạn"
   ]
  },
  {
   "cell_type": "markdown",
   "metadata": {},
   "source": [
    "Phần này là không bắt buộc. "
   ]
  },
  {
   "cell_type": "code",
   "execution_count": 29,
   "metadata": {},
   "outputs": [],
   "source": [
    "# YOUR CODE HERE (OPTION) "
   ]
  },
  {
   "cell_type": "markdown",
   "metadata": {},
   "source": [
    "---"
   ]
  },
  {
   "cell_type": "markdown",
   "metadata": {},
   "source": [
    "## Phân tích dữ liệu để ra câu trả lời cho câu hỏi của bạn (2đ)"
   ]
  },
  {
   "cell_type": "code",
   "execution_count": 30,
   "metadata": {
    "deletable": false,
    "nbgrader": {
     "cell_type": "code",
     "checksum": "57f44ba4e568b05148da80fc7161fc97",
     "grade": true,
     "grade_id": "cell-83e11892184cf811",
     "locked": false,
     "points": 2,
     "schema_version": 3,
     "solution": true,
     "task": false
    }
   },
   "outputs": [
    {
     "data": {
      "text/plain": [
       "<AxesSubplot:title={'center':'Biểu đồ lương trung bình'}, xlabel='Tiền lương ($/năm)', ylabel='Quốc gia'>"
      ]
     },
     "execution_count": 30,
     "metadata": {},
     "output_type": "execute_result"
    },
    {
     "data": {
      "image/png": "[encoded data removed]",
      "text/plain": [
       "<Figure size 432x288 with 1 Axes>"
      ]
     },
     "metadata": {
      "needs_background": "light"
     },
     "output_type": "display_data"
    }
   ],
   "source": [
    "# YOUR CODE HERE\n",
    "\n",
    "lst_index = list(cat_col_info_df['Country']['value_ratios'])\n",
    "dict_country = dict.fromkeys(lst_index, 0)\n",
    "dict_salary = dict.fromkeys(lst_index, 0)\n",
    "\n",
    "# list chứa các giá trị được trả về bool(T/F) với True: giá trị không phải NaN, False: là NaN\n",
    "arr_not_nan = survey_df.ConvertedComp.notna()\n",
    "        \n",
    "for i in survey_df.index:\n",
    "    country_name = survey_df.Country[i]\n",
    "    # Xử lý missing values (ĐK: cả hai cột đồng thời xuất hiện trên 1 dòng)\n",
    "    if type(country_name) == str and arr_not_nan[i] == True: \n",
    "        dict_country[country_name] += 1\n",
    "        dict_salary[country_name] += survey_df.ConvertedComp[i]\n",
    "        \n",
    "for i in dict_country:\n",
    "    # Quốc gia không có lập trình viên\n",
    "    if dict_country[i] == 0:\n",
    "        dict_country[i] = 0  \n",
    "    else:\n",
    "        dict_country[i] = round(dict_salary[i] / dict_country[i], 1) \n",
    "\n",
    "most_salary_countries = pd.Series(dict_country)\n",
    "most_salary_countries\n",
    "\n",
    "\n",
    "\n",
    "# Vẽ biểu đồ \n",
    "\n",
    "# Lấy top các giá trị tượng trưng  \n",
    "most_salary_countries = most_salary_countries.sort_values(ascending = False)\n",
    "\n",
    "# Lấy tập mẫu là top 10 quốc gia trả lương cao nhất cho lập trình viên\n",
    "most_salary_countries = most_salary_countries.head(10)\n",
    "\n",
    "draw_plot = most_salary_countries.plot(kind = 'barh', color = 'orange', linewidth=10)\n",
    "draw_plot.set_title('Biểu đồ lương trung bình')\n",
    "draw_plot.set_xlabel('Tiền lương ($/năm)')\n",
    "draw_plot.set_ylabel('Quốc gia')\n",
    "draw_plot.legend('$')\n",
    "\n",
    "draw_plot\n"
   ]
  }
 ],
 "metadata": {
  "kernelspec": {
   "display_name": "Python 3",
   "language": "python",
   "name": "python3"
  },
  "language_info": {
   "codemirror_mode": {
    "name": "ipython",
    "version": 3
   },
   "file_extension": ".py",
   "mimetype": "text/x-python",
   "name": "python",
   "nbconvert_exporter": "python",
   "pygments_lexer": "ipython3",
   "version": "3.8.3"
  },
  "toc": {
   "base_numbering": 1,
   "nav_menu": {},
   "number_sections": false,
   "sideBar": true,
   "skip_h1_title": true,
   "title_cell": "Table of Contents",
   "title_sidebar": "Contents",
   "toc_cell": false,
   "toc_position": {
    "height": "calc(100% - 180px)",
    "left": "10px",
    "top": "150px",
    "width": "554px"
   },
   "toc_section_display": true,
   "toc_window_display": true
  }
 },
 "nbformat": 4,
 "nbformat_minor": 4
}
