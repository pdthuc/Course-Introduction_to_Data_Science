{
 "cells": [
  {
   "cell_type": "markdown",
   "metadata": {
    "Collapsed": "false"
   },
   "source": [
    "# BT01: Thu thập dữ liệu\n",
    "Họ tên: Huỳnh Minh Huấn\n",
    "\n",
    "MSSV: 1612858"
   ]
  },
  {
   "cell_type": "markdown",
   "metadata": {
    "Collapsed": "false"
   },
   "source": [
    "---\n",
    "## Cách làm bài và nộp bài\n",
    "&#9889; Bạn lưu ý là mình sẽ dùng chương trình hỗ trợ chấm bài nên bạn cần phải tuân thủ chính xác qui định mà mình đặt ra, nếu không rõ thì hỏi, chứ không nên tự tiện làm theo ý của cá nhân.\n",
    "\n",
    "**Cách làm bài**\n",
    "\n",
    "Bạn sẽ làm trực tiếp trên file notebook này. Đầu tiên, bạn điền họ tên và MSSV vào phần đầu file ở bên trên. Trong file, bạn làm bài ở những chỗ có ghi là:\n",
    "```python\n",
    "# YOUR CODE HERE\n",
    "raise NotImplementedError()```\n",
    "hoặc đối với những phần code không bắt buộc thì là:\n",
    "```python\n",
    "# YOUR CODE HERE (OPTION)```\n",
    "hoặc đối với markdown cell thì là:\n",
    "```markdown\n",
    "YOUR ANSWER HERE\n",
    "```\n",
    "Tất nhiên, khi làm thì bạn xóa dòng `raise NotImplementedError()` đi.\n",
    "Đối những phần yêu cầu code thì thường ở ngay phía dưới sẽ có một (hoặc một số) cell chứa các bộ test để giúp bạn biết đã code đúng hay chưa; nếu chạy cell này không có lỗi gì thì có nghĩa là qua được các bộ test. Trong một số trường hợp, các bộ test có thể sẽ không đầy đủ; nghĩa là, nếu không qua được test thì là code sai, nhưng nếu qua được test thì chưa chắc đã đúng.\n",
    "\n",
    "Trong khi làm bài, bạn có thể cho in ra màn hình, tạo thêm các cell để test. Nhưng khi nộp bài thì bạn xóa các cell mà bạn tự tạo, xóa hoặc comment các câu lệnh in ra màn hình. Bạn lưu ý <font color=red>không được tự tiện xóa các cell hay sửa code của Thầy</font> (trừ những chỗ được phép sửa như đã nói ở trên).\n",
    "\n",
    "Trong khi làm bài, thường xuyên `Ctrl + S` để lưu lại bài làm của bạn, tránh mất mát thông tin.\n",
    "\n",
    "\n",
    "*Nên nhớ mục tiêu chính ở đây là <font color=green>học, học một cách chân thật</font>. Bạn có thể thảo luận ý tưởng với bạn khác, nhưng <font color=green>code và bài làm phải là của bạn, dựa trên sự hiểu thật sự của bạn</font>. <font color=red>Nếu vi phạm thì sẽ bị 0 điểm cho toàn bộ môn học.</font>*\n",
    "\n",
    "**Cách nộp bài**\n",
    "\n",
    "Khi chấm bài, đầu tiên mình sẽ chọn `Kernel` - `Restart Kernel & Run All Cells`, để restart và chạy tất cả các cell trong notebook của bạn; do đó, trước khi nộp bài, bạn nên chạy thử `Kernel` - `Restart Kernel & Run All Cells` để đảm bảo mọi chuyện diễn ra đúng như mong đợi.\n",
    "\n",
    "Sau đó, bạn tạo thư mục nộp bài theo cấu trúc sau:\n",
    "- Thư mục `MSSV` (vd, nếu bạn có MSSV là 1234567 thì bạn đặt tên thư mục là `1234567`)\n",
    "    - Thư mục `BT01`\n",
    "        - File `BT01-ThuThapDuLieu.ipynb` (không cần nộp các file khác)\n",
    "\n",
    "Cuối cùng, bạn nén thư mục `MSSV` này lại và nộp ở link trên moodle. <font color=red>Bạn lưu ý tuân thủ chính xác cấu trúc này.</font>"
   ]
  },
  {
   "cell_type": "markdown",
   "metadata": {
    "Collapsed": "false"
   },
   "source": [
    "---\n",
    "## Import"
   ]
  },
  {
   "cell_type": "code",
   "execution_count": null,
   "metadata": {
    "Collapsed": "false"
   },
   "outputs": [],
   "source": [
    "from requests_html import HTMLSession\n",
    "import requests\n",
    "import json\n",
    "import time # Dùng để sleep chương trình\n",
    "import pandas as pd # Dùng để đọc và hiển thị file csv (Pandas sẽ được học chi tiết ở buổi tới)\n",
    "import datetime as dt # Dùng để xử lý dữ liệu thời gian\n",
    "import re\n",
    "# YOUR CODE HERE (OPTION) \n",
    "# Nếu cần các thư viện khác thì bạn có thể import ở đây"
   ]
  },
  {
   "cell_type": "markdown",
   "metadata": {
    "Collapsed": "false"
   },
   "source": [
    "---\n",
    "## 1. Thu thập dữ liệu từ web bằng cách parse HTML (5đ)\n",
    "[Coursera](https://coursera.org) là trang cung cấp các khóa học online, là một nguồn tài liệu hữu ích để học tập. Trong phần này, bạn sẽ thu thập dữ liệu về các khóa học Data Science ở Coursera. \n",
    "\n",
    "Cụ thể là bạn sẽ viết hàm `collect_courses` ở bên dưới. Hàm này có các input như sau:\n",
    "- `course_urls_file`: là chuỗi, cho biết tên của file txt chứa các đường link đến các khóa học của Coursera (tất cả các khóa học, chứ không phải chỉ các khóa học về Data Science), mỗi đường link nằm trên một dòng; bạn sẽ đi theo đường link để lấy thông tin của khóa học. File này đã được cung cấp cho bạn: file \"course_urls.txt\" (mình tạo ra file này bằng cách parse [trang XML này](https://www.coursera.org/sitemap~www~courses.xml)). Theo file [robots.txt](https://www.coursera.org/robots.txt) thì các link trong file này đều được phép thu thập (bạn kiểm tra lại xem có đúng không). \n",
    "- `key_words`: là list, cho biết các từ khóa để lọc ra các link cần lấy. Ví dụ: `key_words=['data-science', 'datascience']` sẽ chỉ thu thập thông tin từ các link mà có từ \"data-science\" HOẶC \"datascience\" (chẳng hạn: https://www.coursera.org/learn/spatial-data-science).\n",
    "- `sleep_time`: là số thực, cho biết sau mỗi lần gửi request và parse lấy dữ liệu thì sẽ sleep bao nhiêu giây trước khi gửi tiếp lần request kế (sleep như vậy để tránh gửi quá nhiều request lên Coursera trong một thời gian ngắn). Trong hàm `collect_courses` bên dưới mình để giá trị mặc định là 1 giây. Trong Python, bạn sleep chương trình bằng câu lệnh `time.sleep(số giây)`.\n",
    "- `courses_file`: là chuỗi, cho biết tên của file csv dùng để lưu dữ liệu thu thập được; đây là file output (file này không có sẵn mà sẽ được tạo ra sau khi chạy hàm của bạn). Mình có cung cấp file output đúng \"correct_courses.csv\" (khi gọi hàm `collect_courses` với `key_words=['data-science', 'datascience']`) để bạn hình dung được nội dung cần có của file output. File này có các phần tử trên mỗi dòng được phân tách nhau bởi tab (`\\t`), và file này mã hóa utf-8. Bạn có thể xem file csv này ở JupyterLab bằng cách double-click vào file ở phía bên trái JupyterLab rồi chọn \"Delimiter\" là tab; hoặc xem ở dạng text bằng cách chuột phải vào file rồi \"Open With\", \"Editor\". File này gồm có các cột:\n",
    "    - `url`: đường link đến khóa học.\n",
    "    - `title`: tựa đề của khóa học.\n",
    "    - `provider`: trường cung cấp khóa học.\n",
    "    - `rating`: điểm số của khóa học (tại thời điểm bạn thu thập dữ liệu thì giá trị của cột này có thể sẽ hơi khác so với file output đúng của mình).\n",
    "    - `num_ratings`: số lượng người đã cho điểm cho khóa học (tại thời điểm bạn thu thập dữ liệu thì giá trị của cột này có thể sẽ hơi khác so với file output đúng của mình)."
   ]
  },
  {
   "cell_type": "code",
   "execution_count": null,
   "metadata": {
    "Collapsed": "false",
    "deletable": false,
    "nbgrader": {
     "cell_type": "code",
     "checksum": "925ed984709d1910bc53a87d128584ef",
     "grade": false,
     "grade_id": "cell-dc3850a3d53d80be",
     "locked": false,
     "schema_version": 3,
     "solution": true,
     "task": false
    }
   },
   "outputs": [],
   "source": [
    "def collect_courses(course_urls_file, key_words, courses_file, sleep_time=1):\n",
    "    # YOUR CODE HERE\n",
    "    session = HTMLSession()\n",
    "    \n",
    "    fileIn = open(course_urls_file, 'r')\n",
    "    fileOut = open(courses_file,'w',encoding='utf8')\n",
    "\n",
    "    # read links list from file input\n",
    "    urls = fileIn.read().split('\\n')    \n",
    "    dataScienceLinks = []\n",
    "    for url in urls:\n",
    "        if (url.find('datascience') != -1) or (url.find('data-science') != -1):\n",
    "            dataScienceLinks.append(url)\n",
    "    fileOut.write('url\\ttitle\\tprovider\\trating\\tnum_ratings')\n",
    "    for link in dataScienceLinks[:]:\n",
    "        time.sleep(sleep_time)\n",
    "        #print(link)\n",
    "        r = session.get(link)\n",
    "        title = r.html.find('h1',first = True).text\n",
    "        #print(title)\n",
    "        \n",
    "        box_provider = r.html.find('.partnerBanner_np2ice-o_O-Box_120drhm-o_O-displayflex_poyjc', \n",
    "                          first = True)\n",
    "        img_provider = box_provider.find('img', first = True)\n",
    "        if img_provider != None:\n",
    "            provider = img_provider.attrs['alt']\n",
    "        else:\n",
    "            provider = box_provider.text.replace('\\n', ' ').replace('Offered By ','')\n",
    "        #print(provider)\n",
    "        box_courseRating = r.html.find('.CourseRating', first = True)\n",
    "        rating, num_ratings = '0', '0'\n",
    "        if (box_courseRating != None):\n",
    "            courseRating = box_courseRating.text.split('\\n')\n",
    "            rating = courseRating[5]\n",
    "            num_ratings = courseRating[6].split()[0]\n",
    "        #print(rating)\n",
    "        #print(num_ratings)\n",
    "        fileOut.write('\\n' + link + '\\t' + title + '\\t' + provider + '\\t' + rating + '\\t' + num_ratings)\n",
    "        #print()\n",
    "    fileIn.close()\n",
    "    fileOut.close()\n",
    "    #raise NotImplementedError()\n",
    "#%time collect_courses('course_urls.txt', ['data-science', 'datascience'], 'courses.csv')"
   ]
  },
  {
   "cell_type": "code",
   "execution_count": null,
   "metadata": {
    "Collapsed": "false",
    "deletable": false,
    "editable": false,
    "nbgrader": {
     "cell_type": "code",
     "checksum": "9ff72fc37c169d35422583361e59e377",
     "grade": true,
     "grade_id": "cell-f7ba8a08f45c6cf9",
     "locked": true,
     "points": 5,
     "schema_version": 3,
     "solution": false,
     "task": false
    }
   },
   "outputs": [],
   "source": [
    "# TEST\n",
    "collect_courses('course_urls.txt', ['data-science', 'datascience'], 'courses.csv')\n",
    "courses = pd.read_csv('courses.csv', sep='\\t')\n",
    "assert courses.shape == (26, 5)"
   ]
  },
  {
   "cell_type": "code",
   "execution_count": null,
   "metadata": {
    "Collapsed": "false",
    "deletable": false,
    "editable": false,
    "nbgrader": {
     "cell_type": "code",
     "checksum": "62a3bb1c02fe708c3dff8e41460d4c78",
     "grade": false,
     "grade_id": "cell-69bae8100b51ecac",
     "locked": true,
     "schema_version": 3,
     "solution": false,
     "task": false
    }
   },
   "outputs": [],
   "source": [
    "# TEST\n",
    "courses"
   ]
  },
  {
   "cell_type": "markdown",
   "metadata": {
    "Collapsed": "false"
   },
   "source": [
    "---\n",
    "## 2. Thu thập dữ liệu từ web bằng cách dùng web API (5đ)\n",
    "Trong phần này, bạn sẽ dùng GitHub API để thu thập các thùng chứa về Data Science. Để đơn giản, bạn sẽ dùng API không chứng thực (không cần đăng ký tài khoản, không cần key) của GitHub. "
   ]
  },
  {
   "cell_type": "markdown",
   "metadata": {
    "Collapsed": "false"
   },
   "source": [
    "### 2.1. Thu thập ít hơn hoặc bằng 1000 thùng chứa (2.5đ)\n",
    "Đầu tiên, bạn sẽ viết hàm `collect_repositories` ở bên dưới. Hàm này có các input:\n",
    "- `start_date` và `end_date`: là chuỗi, cho biết là muốn tìm các thùng chứa được tạo từ ngày nào đến ngày nào (bao gồm cả 2 đầu). Ví dụ, `start_date='2017-01-01'` (năm-tháng-ngày) và `end_date='2017-01-31'`.\n",
    "- `keyword`: là chuỗi, cho biết là muốn tìm kiếm các thùng chứa với từ khóa nào (xuất hiện ở tên thùng chứa hoặc phần mô tả của thùng chứa). Ví dụ, `keyword='data science'`.\n",
    "- `per_page`: là số nguyên, cho biết là muốn bao nhiêu kết quả trên một page. Hiện giờ GitHub cho tối đa là `per_page=100`.\n",
    "\n",
    "Trong hàm này bạn sẽ vào đường link `f'https://api.github.com/search/repositories?q={keyword} created:{start_date}..{end_date}&per_page={per_page}'` (dạng f-string trong Python) để thu thập dữ liệu. Ví dụ, bạn có thể vào thử ở web browser: https://api.github.com/search/repositories?q=data%20science%20created:2017-01-01..2017-01-31&per_page=100 (khi nhập một đường link vào web browser và enter thì một số ký tự sẽ bị mã hóa; ví dụ khoảng trắng sẽ bị mã hóa là %20 hoặc +), hoặc dùng thư viện Requests:"
   ]
  },
  {
   "cell_type": "code",
   "execution_count": null,
   "metadata": {
    "Collapsed": "false"
   },
   "outputs": [],
   "source": [
    "# Thư viện requests sẽ tự động mã hóa khoảng trắng cho bạn\n",
    "# Bạn có thể xem đường link sau khi đã mã hóa bằng câu lệnh: r.url\n",
    "r = requests.get('https://api.github.com/search/repositories?q=data science created:2017-01-01..2017-01-31&per_page=100')"
   ]
  },
  {
   "cell_type": "code",
   "execution_count": null,
   "metadata": {
    "Collapsed": "false"
   },
   "outputs": [],
   "source": [
    "# Xem 100 ký tự đầu tiên trong chuỗi JSON lấy được\n",
    "print(r.text[:100])"
   ]
  },
  {
   "cell_type": "markdown",
   "metadata": {
    "Collapsed": "false"
   },
   "source": [
    "Bạn thấy \"total_count\" có giá trị là 1615, nghĩa là tìm được 1615 thùng chứa. Tuy nhiên, đây chỉ là trang đầu tiên và chỉ có 100 thùng chứa (số lượng phần tử của \"items\"). Link tới trang kế tiếp nằm trong headers của nội dung gửi về từ server."
   ]
  },
  {
   "cell_type": "code",
   "execution_count": null,
   "metadata": {},
   "outputs": [],
   "source": [
    "r.headers['Link']"
   ]
  },
  {
   "cell_type": "markdown",
   "metadata": {
    "Collapsed": "false"
   },
   "source": [
    "Link tới trang kế tiếp là link mà ở bên cạnh phía phải có từ `rel=\"next\"`. `rel=\"last\"` nghĩa là trang cuối. Vì đây là trang đầu tiên nên chỉ có \"next\" và \"last\", trang ở giữa còn có thêm \"first\" (trang đầu) và \"prev\" (trang trước). Bạn có thể xem thêm ở [document](https://developer.github.com/v3/guides/traversing-with-pagination/).\n",
    "\n",
    "Nếu để ý thì bạn thấy trang cuối là `page=10`, nghĩa là tất cả các trang chỉ có $10\\times100=1000$ thùng chứa. Trong khi đó, \"total_count\" là 1615. Lý do: \"the GitHub Search API provides up to **1,000 results for each search**\" ([document](https://developer.github.com/v3/search/)). Trong hàm này chỉ yêu cầu bạn lấy hết kết quả ở tất cả các trang là được ($\\le1000$ kết quả). Việc lấy $>1000$ kết quả sẽ làm ở phần kế tiếp.\n",
    "\n",
    "Một yêu cầu nữa trong hàm này là khi hết số lượng request được phép trong 1 phút (với API không chứng thực thì hiện nay được 10 request / phút) thì bạn phải cho chương trình đợi cho đến khi được reset lại (thường thì không cần đợi tới 1 phút vì thời gian 1 phút là tính từ lần request đầu tiên). Cách làm là bạn sẽ cho chương trình sleep 1 giây rồi dậy xem được reset chưa, nếu chưa thì lại sleep 1 giây rồi dậy ... Bạn lưu ý là, <font color=red>không được giả định lần request đầu tiên là chắc chắn thành công</font> (vì khi chấm bài mình sẽ phải chạy nhiều bài và có thể đến bài của bạn đã hết lượt request được phép). Để xem số lượng request còn lại, bạn có thể xem header:"
   ]
  },
  {
   "cell_type": "code",
   "execution_count": null,
   "metadata": {
    "Collapsed": "false"
   },
   "outputs": [],
   "source": [
    "r.headers['X-RateLimit-Remaining'] # Lưu ý kết quả trả về là chuỗi"
   ]
  },
  {
   "cell_type": "markdown",
   "metadata": {
    "Collapsed": "false"
   },
   "source": [
    "Khi số lượng request còn lại bằng 0 thì có 2 trường hợp có thể xảy ra:\n",
    "- Lần request vừa xong thành công (là lần request cuối cùng được phép), lúc này `r.ok` bằng `True`.\n",
    "- Lần request vừa xong không thành công (đã hết lượng request được phép), lúc này `r.ok` bằng `False`."
   ]
  },
  {
   "cell_type": "markdown",
   "metadata": {
    "Collapsed": "false"
   },
   "source": [
    "Output trả về của hàm `collect_repositories`:\n",
    "- `repositories`: là list các thùng chứa lấy được (list gồm \"item\" của tất cả các trang)."
   ]
  },
  {
   "cell_type": "code",
   "execution_count": null,
   "metadata": {
    "Collapsed": "false",
    "deletable": false,
    "nbgrader": {
     "cell_type": "code",
     "checksum": "20cb81a6aca154078aed4053c325d8ec",
     "grade": false,
     "grade_id": "cell-62a49f8fda9cd909",
     "locked": false,
     "schema_version": 3,
     "solution": true,
     "task": false
    }
   },
   "outputs": [],
   "source": [
    "def collect_repositories(start_date, end_date, keyword='data science', per_page=100):\n",
    "    repositories = []\n",
    "    # YOUR CODE HERE\n",
    "    #raise NotImplementedError()\n",
    "    nextPage = f'https://api.github.com/search/repositories?q={keyword} created:{start_date}..{end_date}&per_page={per_page}'\n",
    "    r = requests.get(nextPage)\n",
    "    while (True):\n",
    "        #print(r.headers['X-RateLimit-Remaining'], end='.')\n",
    "        if (r.ok):\n",
    "            rJson = json.loads(r.text)\n",
    "            repositories.extend(rJson['items'])\n",
    "            headers = r.headers['Link'].split(' ')\n",
    "            nextPage = None\n",
    "            if 'rel=\"next\",' in headers:\n",
    "                idx = headers.index('rel=\"next\",')\n",
    "                nextPage = headers[idx - 1][1:(len(headers[idx - 1]) - 2)]\n",
    "            #print('\\n')\n",
    "            #print(nextPage, end = '\\n\\n')\n",
    "        if (r.headers['X-RateLimit-Remaining'] == '0'):\n",
    "            time.sleep(1)\n",
    "        if nextPage != None:\n",
    "            r = requests.get(nextPage)\n",
    "        else:\n",
    "            break\n",
    "    return repositories "
   ]
  },
  {
   "cell_type": "code",
   "execution_count": null,
   "metadata": {
    "Collapsed": "false",
    "deletable": false,
    "editable": false,
    "nbgrader": {
     "cell_type": "code",
     "checksum": "11f499011f7d2470be004f557df5ffb1",
     "grade": true,
     "grade_id": "cell-f9dd722733b1a0b8",
     "locked": true,
     "points": 2.5,
     "schema_version": 3,
     "solution": false,
     "task": false
    }
   },
   "outputs": [],
   "source": [
    "# TEST\n",
    "repositories = collect_repositories('2017-01-01', '2017-01-15', 'data science', 100)\n",
    "print(len(repositories))\n",
    "assert len(repositories) == 691 "
   ]
  },
  {
   "cell_type": "markdown",
   "metadata": {
    "Collapsed": "false"
   },
   "source": [
    "### 2.1. Thu thập nhiều hơn 1000 thùng chứa (2.5đ)\n",
    "Để thu thập hết 1615 thùng chứa trong ví dụ ở trên, ta sẽ: \n",
    "- Chia khoảng thời gian các thùng chứa được tạo mà ta cần tìm kiếm ra các khoảng thời gian nhỏ hơn. Ví dụ chia 2017-01-01..2017-01-15 thành 2017-01-01..2017-01-07, 2017-01-08..2017-01-14, 2017-01-15..2017-01-15; ở đây, mỗi khoảng thời gian nhỏ gồm 7 ngày (kể cả 2 đầu), khoảng thời gian nhỏ sau cùng có thể sẽ không đủ 7 ngày (do bị lẻ). Trong Python, để làm việc với dữ liệu thời gian, bạn có thể dùng thư viện `datetime`; bạn có thể tự tìm hiểu về thư viện này ở: [document](https://docs.python.org/3.7/library/datetime.html), [Corey's video](https://www.youtube.com/watch?v=eirjjyP2qcQ), Google.\n",
    "- Tìm kiếm với khoảng thời gian nhỏ hơn này bằng hàm `collect_repositories` ở trên (với khoảng thời gian đủ nhỏ sẽ có $\\le1000$ thùng chứa).\n",
    "- Kết hợp kết quả từ các lần tìm kiếm với các khoảng thời gian nhỏ này lại.\n",
    "\n",
    "Bạn sẽ cài đặt các bước này ở hàm `collect_all_repositories` dưới đây. Hàm này có các input:\n",
    "- `start_date`, `end_date`, `keyword`, `per_page`: các input này giống như ở hàm `collect_repositories`.\n",
    "- `step`: là số nguyên, cho biết khoảng thời gian nhỏ gồm bao nhiêu ngày (tính cả 2 đầu). Trong ví dụ ở trên, `step=7`.\n",
    "\n",
    "Output trả về của hàm này:\n",
    "- `all_repositories`: là list tất cả các thùng chứa (\"item\") lấy được."
   ]
  },
  {
   "cell_type": "code",
   "execution_count": null,
   "metadata": {
    "Collapsed": "false",
    "deletable": false,
    "nbgrader": {
     "cell_type": "code",
     "checksum": "e58dcaf52d67ca4b5a41299b636282ab",
     "grade": false,
     "grade_id": "cell-186ad6493e39e40c",
     "locked": false,
     "schema_version": 3,
     "solution": true,
     "task": false
    }
   },
   "outputs": [],
   "source": [
    "def collect_all_repositories(start_date, end_date, step, keyword='data science', per_page=100):\n",
    "    all_repositories = []\n",
    "    # YOUR CODE HERE\n",
    "    #raise NotImplementedError()\n",
    "    prev = dt.date.fromisoformat(start_date) \n",
    "    curr = prev + dt.timedelta(step)\n",
    "    end = dt.date.fromisoformat(end_date)\n",
    "    while (True):\n",
    "        all_repositories.extend(collect_repositories(prev, curr, keyword, per_page))\n",
    "        if (end - curr).days == 0:\n",
    "            break\n",
    "        prev = curr + dt.timedelta(1)\n",
    "        if (end - curr).days < step:\n",
    "            curr = end\n",
    "        else:\n",
    "            curr = curr + dt.timedelta(step)\n",
    "    return all_repositories"
   ]
  },
  {
   "cell_type": "code",
   "execution_count": null,
   "metadata": {
    "Collapsed": "false",
    "deletable": false,
    "editable": false,
    "nbgrader": {
     "cell_type": "code",
     "checksum": "cf56eec650107cda92e1dad240c09119",
     "grade": true,
     "grade_id": "cell-eb93b1b4dd11e993",
     "locked": true,
     "points": 2.5,
     "schema_version": 3,
     "solution": false,
     "task": false
    }
   },
   "outputs": [],
   "source": [
    "# TEST\n",
    "all_repositories = collect_all_repositories('2017-01-01', '2017-01-31', 10, 'data science', 100)\n",
    "print(len(all_repositories))\n",
    "assert len(all_repositories) == 1615"
   ]
  }
 ],
 "metadata": {
  "kernelspec": {
   "display_name": "Python 3",
   "language": "python",
   "name": "python3"
  },
  "language_info": {
   "codemirror_mode": {
    "name": "ipython",
    "version": 3
   },
   "file_extension": ".py",
   "mimetype": "text/x-python",
   "name": "python",
   "nbconvert_exporter": "python",
   "pygments_lexer": "ipython3",
   "version": "3.7.1"
  },
  "toc": {
   "base_numbering": 1,
   "nav_menu": {},
   "number_sections": false,
   "sideBar": true,
   "skip_h1_title": false,
   "title_cell": "Table of Contents",
   "title_sidebar": "Contents",
   "toc_cell": false,
   "toc_position": {},
   "toc_section_display": true,
   "toc_window_display": true
  }
 },
 "nbformat": 4,
 "nbformat_minor": 4
}
